{
 "cells": [
  {
   "cell_type": "code",
   "execution_count": 3,
   "metadata": {},
   "outputs": [],
   "source": [
    "import numpy as np\n",
    "import matplotlib.pyplot as plt\n",
    "import pandas as pd"
   ]
  },
  {
   "cell_type": "code",
   "execution_count": 5,
   "metadata": {},
   "outputs": [
    {
     "name": "stdout",
     "output_type": "stream",
     "text": [
      "<class 'pandas.core.frame.DataFrame'>\n",
      "RangeIndex: 16 entries, 0 to 15\n",
      "Data columns (total 4 columns):\n",
      "0    16 non-null float64\n",
      "1    16 non-null float64\n",
      "2    16 non-null int64\n",
      "3    16 non-null int64\n",
      "dtypes: float64(2), int64(2)\n",
      "memory usage: 592.0 bytes\n",
      "None\n",
      "     0    1  2  3\n",
      "0  1.0  4.0  0  0\n",
      "1  1.1  3.9  0  0\n",
      "2  1.2  4.1  0  0\n",
      "3  0.9  3.7  0  0\n",
      "4  7.0  4.0  0  1\n",
      "      0    1  2  3\n",
      "11  3.9  0.8  1  0\n",
      "12  4.0  7.0  1  1\n",
      "13  4.2  7.2  1  1\n",
      "14  3.9  7.1  1  1\n",
      "15  4.1  6.8  1  1\n"
     ]
    }
   ],
   "source": [
    "# 准备数据集\n",
    "data_path=\"E:\\PyProjects\\/DataSet\\/FireAI\\/data_single_layer.txt\"\n",
    "df=pd.read_csv(data_path,header=None,sep=' ')\n",
    "print(df.info()) # 查看数据信息，确保没有错误\n",
    "print(df.head())\n",
    "print(df.tail())\n"
   ]
  },
  {
   "cell_type": "code",
   "execution_count": 6,
   "metadata": {},
   "outputs": [],
   "source": [
    "# 该数据集的前两列是features，后两列是labels\n",
    "dataset_X=df.iloc[:,:2].values\n",
    "dataset_y=df.iloc[:,2:].values"
   ]
  },
  {
   "cell_type": "code",
   "execution_count": 10,
   "metadata": {},
   "outputs": [
    {
     "data": {
      "text/plain": [
       "Text(0.5,1,'dataset_X distribution')"
      ]
     },
     "execution_count": 10,
     "metadata": {},
     "output_type": "execute_result"
    },
    {
     "data": {
      "image/png": "[encoded data removed]",
      "text/plain": [
       "<Figure size 432x288 with 1 Axes>"
      ]
     },
     "metadata": {},
     "output_type": "display_data"
    }
   ],
   "source": [
    "# 将features绘制到图中看看其分布情况\n",
    "plt.scatter(dataset_X[:,0],dataset_X[:,1])\n",
    "plt.title('dataset_X distribution')"
   ]
  },
  {
   "cell_type": "code",
   "execution_count": 13,
   "metadata": {},
   "outputs": [
    {
     "name": "stdout",
     "output_type": "stream",
     "text": [
      "Epoch: 2; Error: 7.5;\n",
      "Epoch: 4; Error: 7.0;\n",
      "Epoch: 6; Error: 4.0;\n",
      "Epoch: 8; Error: 4.0;\n",
      "Epoch: 10; Error: 4.0;\n",
      "Epoch: 12; Error: 4.0;\n",
      "Epoch: 14; Error: 4.0;\n",
      "Epoch: 16; Error: 4.0;\n",
      "Epoch: 18; Error: 4.0;\n",
      "Epoch: 20; Error: 4.0;\n",
      "Epoch: 22; Error: 4.0;\n",
      "Epoch: 24; Error: 4.0;\n",
      "Epoch: 26; Error: 4.0;\n",
      "Epoch: 28; Error: 4.0;\n",
      "Epoch: 30; Error: 4.0;\n",
      "Epoch: 32; Error: 4.0;\n",
      "Epoch: 34; Error: 4.0;\n",
      "Epoch: 36; Error: 4.0;\n",
      "Epoch: 38; Error: 4.0;\n",
      "Epoch: 40; Error: 4.0;\n",
      "Epoch: 42; Error: 4.0;\n",
      "Epoch: 44; Error: 4.0;\n",
      "Epoch: 46; Error: 4.0;\n",
      "Epoch: 48; Error: 4.0;\n",
      "Epoch: 50; Error: 4.0;\n",
      "The maximum number of train epochs is reached\n"
     ]
    }
   ],
   "source": [
    "# 构建单层NN模型，该模型的隐含层含有两个感知器\n",
    "import neurolab as nl\n",
    "x_min, x_max = dataset_X[:,0].min(), dataset_X[:,0].max()\n",
    "y_min, y_max = dataset_X[:,1].min(), dataset_X[:,1].max()\n",
    "single_layer_net = nl.net.newp([[x_min, x_max], [y_min, y_max]], 2) # 隐含层含有两个神经元\n",
    "# 所以本单层NN模型含有两个输入神经元，两个隐含层神经元，两个输出神经元\n",
    "cost = single_layer_net.train(dataset_X, dataset_y, epochs=50, show=2, lr=0.01)\n",
    "# 训练该单层NN模型，50个回合，每2个回合显示一下训练结果，学习速率为0.01"
   ]
  },
  {
   "cell_type": "code",
   "execution_count": 14,
   "metadata": {},
   "outputs": [
    {
     "data": {
      "text/plain": [
       "Text(0.5,1,'Training cost progress')"
      ]
     },
     "execution_count": 14,
     "metadata": {},
     "output_type": "execute_result"
    },
    {
     "data": {
      "image/png": "[encoded data removed]",
      "text/plain": [
       "<Figure size 432x288 with 1 Axes>"
      ]
     },
     "metadata": {},
     "output_type": "display_data"
    }
   ],
   "source": [
    "plt.plot(cost)\n",
    "plt.xlabel('Number of epochs')\n",
    "plt.ylabel('Training cost')\n",
    "plt.grid()\n",
    "plt.title('Training cost progress')"
   ]
  },
  {
   "cell_type": "code",
   "execution_count": 15,
   "metadata": {},
   "outputs": [
    {
     "name": "stdout",
     "output_type": "stream",
     "text": [
      "[[0. 0.]\n",
      " [1. 0.]\n",
      " [1. 1.]]\n"
     ]
    }
   ],
   "source": [
    "# 用训练好的模型来预测新样本\n",
    "new_samples=np.array([[0.3, 4.5],\n",
    "                      [4.5, 0.5],\n",
    "                      [4.3, 8]])\n",
    "print(single_layer_net.sim(new_samples))"
   ]
  },
  {
   "cell_type": "code",
   "execution_count": null,
   "metadata": {},
   "outputs": [],
   "source": []
  }
 ],
 "metadata": {
  "kernelspec": {
   "display_name": "Python 3",
   "language": "python",
   "name": "python3"
  },
  "language_info": {
   "codemirror_mode": {
    "name": "ipython",
    "version": 3
   },
   "file_extension": ".py",
   "mimetype": "text/x-python",
   "name": "python",
   "nbconvert_exporter": "python",
   "pygments_lexer": "ipython3",
   "version": "3.6.6"
  }
 },
 "nbformat": 4,
 "nbformat_minor": 2
}
