{
 "cells": [
  {
   "cell_type": "code",
   "execution_count": 2,
   "metadata": {},
   "outputs": [],
   "source": [
    "import numpy as np\n",
    "import os,random,shutil\n",
    "np.random.seed(7)"
   ]
  },
  {
   "cell_type": "code",
   "execution_count": 3,
   "metadata": {},
   "outputs": [],
   "source": [
    "# 1, 准备数据集，从“猫狗大战”数据集中选取1000Cat+1000Dog作为train set，选取400Cat+400Dog作为test set\n",
    "def ensure_folder_exists(folder_name): # 测试OK\n",
    "    '''\n",
    "    确保folder_name这个文件夹存在，如果不存在，则建立该文件夹，可以是多层嵌套文件夹\n",
    "    :param folder_name:\n",
    "    :return:\n",
    "    '''\n",
    "    if not os.path.exists(folder_name): os.makedirs(folder_name)\n",
    "\n",
    "def dataset_prepare(raw_set_folder,dst_folder,train_num_per_class=1000,test_num_per_class=400):\n",
    "    '''\n",
    "    准备小数据集，从原始的raw_set_folder数据集中提取train_num_per_class(每个类别)的照片放入train中，\n",
    "    提取val_num_per_class（每个类别）放入到validation文件夹中\n",
    "    :param raw_set_folder: 含有猫狗的照片，这些照片的名称必须为cat.101.jpg或dog.102.jpg形式\n",
    "    :param dst_folder: 将选取之后的图片放置到这个文件夹中\n",
    "    :param train_num_per_class:\n",
    "    :param test_num_per_class:\n",
    "    :return:\n",
    "    '''\n",
    "    all_imgs=glob(os.path.join(raw_set_folder,'*.jpg'))\n",
    "    img_len = len(all_imgs)\n",
    "    assert img_len > 0, '{} has no jpg image file'.format(raw_set_folder)\n",
    "\n",
    "    cat_imgs=[]\n",
    "    dog_imgs=[]\n",
    "    for img_path in all_imgs:\n",
    "        img_name=os.path.split(img_path)[1]\n",
    "        if img_name.startswith('cat'):\n",
    "            cat_imgs.append(img_path)\n",
    "        elif img_name.startswith('dog'):\n",
    "            dog_imgs.append(img_path)\n",
    "    random.shuffle(cat_imgs)\n",
    "    random.shuffle(dog_imgs)\n",
    "    [ensure_folder_exists(os.path.join(dst_folder,type_folder,class_folder)) for type_folder in ['train','test']\n",
    "        for class_folder in ['dogs','cats']]\n",
    "    # 下面的代码可以进一步优化。。。。\n",
    "    for cat_img_path in cat_imgs[:train_num_per_class]: # 最开始的N个图片作为train\n",
    "        _, fname = os.path.split(cat_img_path)  # 获取文件名和路径\n",
    "        shutil.copyfile(cat_img_path, os.path.join(dst_folder, 'train', 'cats',fname))\n",
    "    print('imgs saved to train/cats folder')\n",
    "    for dog_img_path in dog_imgs[:train_num_per_class]:\n",
    "        _, fname = os.path.split(dog_img_path)  # 获取文件名和路径\n",
    "        shutil.copyfile(dog_img_path, os.path.join(dst_folder, 'train', 'dogs',fname))\n",
    "    print('imgs saved to train/dogs folder')\n",
    "    for cat_img_path in cat_imgs[-test_num_per_class:]: # 最末的M个图片作为test\n",
    "        _, fname = os.path.split(cat_img_path)  # 获取文件名和路径\n",
    "        shutil.copyfile(cat_img_path, os.path.join(dst_folder, 'test', 'cats',fname))\n",
    "    print('imgs saved to test/cats folder')\n",
    "    for dog_img_path in dog_imgs[-test_num_per_class:]: # 最末的M个图片作为test\n",
    "        _, fname = os.path.split(dog_img_path)  # 获取文件名和路径\n",
    "        shutil.copyfile(dog_img_path, os.path.join(dst_folder, 'test', 'dogs',fname))\n",
    "    print('imgs saved to test/dogs folder')\n",
    "    print('finished...')"
   ]
  },
  {
   "cell_type": "code",
   "execution_count": 5,
   "metadata": {},
   "outputs": [
    {
     "name": "stdout",
     "output_type": "stream",
     "text": [
      "imgs saved to train/cats folder\n",
      "imgs saved to train/dogs folder\n",
      "imgs saved to test/cats folder\n",
      "imgs saved to test/dogs folder\n",
      "finished...\n"
     ]
    }
   ],
   "source": [
    "dataset_prepare('E:\\PyProjects\\DataSet\\DogsVsCats/train','E:\\PyProjects\\DataSet\\DogsVsCats_Tiny',1000,400)"
   ]
  },
  {
   "cell_type": "code",
   "execution_count": 13,
   "metadata": {},
   "outputs": [],
   "source": [
    "# 为Keras模型准备数据集\n",
    "#1，指定一些超参数：\n",
    "train_data_dir='E:\\PyProjects\\DataSet\\DogsVsCats_Tiny/train'\n",
    "val_data_dir='E:\\PyProjects\\DataSet\\DogsVsCats_Tiny/test' # keras中将测试集称为validation set\n",
    "train_samples_num=2000 # train set中全部照片数\n",
    "val_samples_num=800\n",
    "IMG_W,IMG_H,IMG_CH=150,150,3 # 单张图片的大小\n",
    "batch_size=32\n",
    "epochs=20  # 用比较少的epochs数目做演示，节约训练时间"
   ]
  },
  {
   "cell_type": "code",
   "execution_count": 14,
   "metadata": {},
   "outputs": [
    {
     "name": "stdout",
     "output_type": "stream",
     "text": [
      "Found 2000 images belonging to 2 classes.\n"
     ]
    }
   ],
   "source": [
    "# 2，准备训练集，keras有很多Generator可以直接处理图片的加载，增强等操作，封装的非常好\n",
    "from keras.preprocessing.image import ImageDataGenerator\n",
    "train_datagen = ImageDataGenerator( # 单张图片的处理方式，train时一般都会进行图片增强\n",
    "        rescale=1. / 255, # 图片像素值为0-255，此处都乘以1/255，调整到0-1之间\n",
    "        shear_range=0.2, # 斜切\n",
    "        zoom_range=0.2, # 放大缩小范围\n",
    "        horizontal_flip=True) # 水平翻转\n",
    "\n",
    "train_generator = train_datagen.flow_from_directory(# 从文件夹中产生数据流\n",
    "    train_data_dir, # 训练集图片的文件夹\n",
    "    target_size=(IMG_W, IMG_H), # 调整后每张图片的大小\n",
    "    batch_size=batch_size,\n",
    "    class_mode='binary') # 此处是二分类问题，故而mode是binary"
   ]
  },
  {
   "cell_type": "code",
   "execution_count": 15,
   "metadata": {},
   "outputs": [
    {
     "name": "stdout",
     "output_type": "stream",
     "text": [
      "Found 800 images belonging to 2 classes.\n"
     ]
    }
   ],
   "source": [
    "# 3，同样的方式准备测试集\n",
    "val_datagen = ImageDataGenerator(rescale=1. / 255) # 只需要和trainset同样的scale即可，不需增强\n",
    "val_generator = val_datagen.flow_from_directory(\n",
    "        val_data_dir,\n",
    "        target_size=(IMG_W, IMG_H),\n",
    "        batch_size=batch_size,\n",
    "        class_mode='binary')"
   ]
  },
  {
   "cell_type": "code",
   "execution_count": 95,
   "metadata": {},
   "outputs": [],
   "source": [
    "# 4，建立Keras模型：模型的建立主要包括模型的搭建，模型的配置\n",
    "from keras.models import Sequential\n",
    "from keras.layers import Conv2D, MaxPooling2D\n",
    "from keras.layers import Activation, Dropout, Flatten, Dense\n",
    "from keras import optimizers\n",
    "def build_model(input_shape):\n",
    "    # 模型的搭建：此处构建三个CNN层+2个全连接层的结构\n",
    "    model = Sequential()\n",
    "    model.add(Conv2D(32, (3, 3), input_shape=input_shape))\n",
    "    model.add(Activation('relu'))\n",
    "    model.add(MaxPooling2D(pool_size=(2, 2)))\n",
    "\n",
    "    model.add(Conv2D(32, (3, 3)))\n",
    "    model.add(Activation('relu'))\n",
    "    model.add(MaxPooling2D(pool_size=(2, 2)))\n",
    "\n",
    "    model.add(Conv2D(64, (3, 3)))\n",
    "    model.add(Activation('relu'))\n",
    "    model.add(MaxPooling2D(pool_size=(2, 2)))\n",
    "\n",
    "    model.add(Flatten())\n",
    "    model.add(Dense(64))\n",
    "    model.add(Activation('relu'))\n",
    "    model.add(Dropout(0.5)) # Dropout防止过拟合\n",
    "    model.add(Dense(1)) # 此处虽然是二分类，但是不能用Dense(2)，因为后面的activation是sigmoid，这个函数只能输出一个值，即class_0的概率\n",
    "    model.add(Activation('sigmoid')) #二分类问题用sigmoid作为activation function\n",
    "    \n",
    "    # 模型的配置\n",
    "    model.compile(loss='binary_crossentropy', # 定义模型的loss func，optimizer，\n",
    "                  optimizer=optimizers.RMSprop(lr=0.0001),\n",
    "                  metrics=['accuracy'])# 主要优化accuracy\n",
    "    # 二分类问题的loss function使用binary_crossentropy，此处使用准确率作为优化目标\n",
    "    return model # 返回构建好的模型"
   ]
  },
  {
   "cell_type": "code",
   "execution_count": 96,
   "metadata": {},
   "outputs": [
    {
     "name": "stdout",
     "output_type": "stream",
     "text": [
      "Epoch 1/20\n",
      "62/62 [==============================] - 136s 2s/step - loss: 0.6976 - acc: 0.5015 - val_loss: 0.6937 - val_acc: 0.5000\n",
      "Epoch 2/20\n",
      "62/62 [==============================] - 137s 2s/step - loss: 0.6926 - acc: 0.5131 - val_loss: 0.6846 - val_acc: 0.5813\n",
      "Epoch 3/20\n",
      "62/62 [==============================] - 152s 2s/step - loss: 0.6821 - acc: 0.5544 - val_loss: 0.6735 - val_acc: 0.6100\n",
      "Epoch 4/20\n",
      "62/62 [==============================] - 152s 2s/step - loss: 0.6779 - acc: 0.5700 - val_loss: 0.6656 - val_acc: 0.6075\n",
      "Epoch 5/20\n",
      "62/62 [==============================] - 154s 2s/step - loss: 0.6682 - acc: 0.5842 - val_loss: 0.6671 - val_acc: 0.5787\n",
      "Epoch 6/20\n",
      "62/62 [==============================] - 158s 3s/step - loss: 0.6609 - acc: 0.6053 - val_loss: 0.6419 - val_acc: 0.6525\n",
      "Epoch 7/20\n",
      "62/62 [==============================] - 150s 2s/step - loss: 0.6555 - acc: 0.6018 - val_loss: 0.6343 - val_acc: 0.6562\n",
      "Epoch 8/20\n",
      "62/62 [==============================] - 152s 2s/step - loss: 0.6417 - acc: 0.6144 - val_loss: 0.6210 - val_acc: 0.6750\n",
      "Epoch 9/20\n",
      "62/62 [==============================] - 145s 2s/step - loss: 0.6235 - acc: 0.6401 - val_loss: 0.6226 - val_acc: 0.6488\n",
      "Epoch 10/20\n",
      "62/62 [==============================] - 151s 2s/step - loss: 0.6289 - acc: 0.6421 - val_loss: 0.6167 - val_acc: 0.6687\n",
      "Epoch 11/20\n",
      "62/62 [==============================] - 158s 3s/step - loss: 0.6315 - acc: 0.6502 - val_loss: 0.6074 - val_acc: 0.6625\n",
      "Epoch 12/20\n",
      "62/62 [==============================] - 148s 2s/step - loss: 0.6131 - acc: 0.6638 - val_loss: 0.5980 - val_acc: 0.6900\n",
      "Epoch 13/20\n",
      "62/62 [==============================] - 141s 2s/step - loss: 0.6083 - acc: 0.6698 - val_loss: 0.6014 - val_acc: 0.6675\n",
      "Epoch 14/20\n",
      "62/62 [==============================] - 143s 2s/step - loss: 0.5977 - acc: 0.6769 - val_loss: 0.5938 - val_acc: 0.6763\n",
      "Epoch 15/20\n",
      "62/62 [==============================] - 143s 2s/step - loss: 0.5910 - acc: 0.6804 - val_loss: 0.5718 - val_acc: 0.7163\n",
      "Epoch 16/20\n",
      "62/62 [==============================] - 143s 2s/step - loss: 0.5934 - acc: 0.6774 - val_loss: 0.6087 - val_acc: 0.6538\n",
      "Epoch 17/20\n",
      "62/62 [==============================] - 139s 2s/step - loss: 0.5812 - acc: 0.6820 - val_loss: 0.5698 - val_acc: 0.7100\n",
      "Epoch 18/20\n",
      "62/62 [==============================] - 140s 2s/step - loss: 0.5776 - acc: 0.6880 - val_loss: 0.5615 - val_acc: 0.7262\n",
      "Epoch 19/20\n",
      "62/62 [==============================] - 143s 2s/step - loss: 0.5766 - acc: 0.6971 - val_loss: 0.5852 - val_acc: 0.6800\n",
      "Epoch 20/20\n",
      "62/62 [==============================] - 140s 2s/step - loss: 0.5654 - acc: 0.7117 - val_loss: 0.5374 - val_acc: 0.7450\n"
     ]
    }
   ],
   "source": [
    "model=build_model(input_shape=(IMG_W,IMG_H,IMG_CH)) # 输入的图片维度\n",
    "# 模型的训练\n",
    "history_ft = model.fit_generator(train_generator, # 数据流\n",
    "                        steps_per_epoch=train_samples_num // batch_size, \n",
    "                        epochs=epochs,\n",
    "                        validation_data=val_generator,\n",
    "                        validation_steps=val_samples_num // batch_size)"
   ]
  },
  {
   "cell_type": "code",
   "execution_count": 97,
   "metadata": {},
   "outputs": [],
   "source": [
    "# 画图，将训练时的acc和loss都绘制到图上\n",
    "import matplotlib.pyplot as plt\n",
    "%matplotlib inline\n",
    "def plot_training(history):\n",
    "    plt.figure(12)\n",
    "    \n",
    "    plt.subplot(121)\n",
    "    train_acc = history.history['acc']\n",
    "    val_acc = history.history['val_acc']\n",
    "    epochs = range(len(train_acc))\n",
    "    plt.plot(epochs, train_acc, 'b',label='train_acc')\n",
    "    plt.plot(epochs, val_acc, 'r',label='test_acc')\n",
    "    plt.title('Train and Test accuracy')\n",
    "    plt.legend()\n",
    "    \n",
    "    plt.subplot(122)\n",
    "    train_loss = history.history['loss']\n",
    "    val_loss = history.history['val_loss']\n",
    "    epochs = range(len(train_loss))\n",
    "    plt.plot(epochs, train_loss, 'b',label='train_loss')\n",
    "    plt.plot(epochs, val_loss, 'r',label='test_loss')\n",
    "    plt.title('Train and Test loss')\n",
    "    plt.legend()\n",
    " \n",
    "    plt.show()"
   ]
  },
  {
   "cell_type": "code",
   "execution_count": 98,
   "metadata": {},
   "outputs": [
    {
     "data": {
      "image/png": "[encoded data removed]",
      "text/plain": [
       "<Figure size 432x288 with 2 Axes>"
      ]
     },
     "metadata": {},
     "output_type": "display_data"
    }
   ],
   "source": [
    "plot_training(history_ft)"
   ]
  },
  {
   "cell_type": "code",
   "execution_count": 104,
   "metadata": {},
   "outputs": [],
   "source": [
    "# 用训练好的模型来预测新样本\n",
    "from PIL import Image\n",
    "from keras.preprocessing import image\n",
    "def predict(model, img_path, target_size):\n",
    "    img=Image.open(img_path) # 加载图片\n",
    "    if img.size != target_size:\n",
    "        img = img.resize(target_size)\n",
    "\n",
    "    x = image.img_to_array(img) \n",
    "    x *=1./255 # 相当于ImageDataGenerator(rescale=1. / 255)\n",
    "    x = np.expand_dims(x, axis=0) # 调整图片维度\n",
    "    preds = model.predict(x) # 预测\n",
    "    return preds[0]\n"
   ]
  },
  {
   "cell_type": "code",
   "execution_count": 105,
   "metadata": {},
   "outputs": [
    {
     "data": {
      "text/plain": [
       "array([0.14361556], dtype=float32)"
      ]
     },
     "execution_count": 105,
     "metadata": {},
     "output_type": "execute_result"
    }
   ],
   "source": [
    "predict(model,'E:\\PyProjects\\DataSet\\FireAI\\DeepLearning/FireAI005/cat11.jpg',(IMG_W,IMG_H))"
   ]
  },
  {
   "cell_type": "code",
   "execution_count": 106,
   "metadata": {},
   "outputs": [
    {
     "data": {
      "text/plain": [
       "array([0.9942463], dtype=float32)"
      ]
     },
     "execution_count": 106,
     "metadata": {},
     "output_type": "execute_result"
    }
   ],
   "source": [
    "predict(model,'E:\\PyProjects\\DataSet\\FireAI\\DeepLearning//FireAI005/dog4.jpg',(IMG_W,IMG_H))"
   ]
  },
  {
   "cell_type": "code",
   "execution_count": 107,
   "metadata": {},
   "outputs": [
    {
     "data": {
      "text/plain": [
       "array([0.7145583], dtype=float32)"
      ]
     },
     "execution_count": 107,
     "metadata": {},
     "output_type": "execute_result"
    }
   ],
   "source": [
    "predict(model,'E:\\PyProjects\\DataSet\\FireAI\\DeepLearning//FireAI005/dog2.jpg',(IMG_W,IMG_H))"
   ]
  },
  {
   "cell_type": "code",
   "execution_count": 119,
   "metadata": {},
   "outputs": [
    {
     "name": "stdout",
     "output_type": "stream",
     "text": [
      "Found 4 images belonging to 2 classes.\n",
      "[[0.14361556]\n",
      " [0.5149474 ]\n",
      " [0.71455824]\n",
      " [0.9942463 ]]\n"
     ]
    }
   ],
   "source": [
    "# 预测一个文件夹中的所有图片\n",
    "new_sample_gen=ImageDataGenerator(rescale=1. / 255)\n",
    "newsample_generator=new_sample_gen.flow_from_directory(\n",
    "        'E:\\PyProjects\\DataSet\\FireAI\\DeepLearning',\n",
    "        target_size=(IMG_W, IMG_H),\n",
    "        batch_size=16,\n",
    "        class_mode=None,\n",
    "        shuffle=False)\n",
    "predicted=model.predict_generator(newsample_generator)\n",
    "print(predicted)"
   ]
  },
  {
   "cell_type": "code",
   "execution_count": 120,
   "metadata": {},
   "outputs": [],
   "source": [
    "# 模型保存\n",
    "# model.save_weights('E:\\PyProjects\\DataSet\\FireAI\\DeepLearning//FireAI005/FireAI005_Model.h5') # 这个只保存weights，不保存模型的结构\n",
    "model.save('E:\\PyProjects\\DataSet\\FireAI\\DeepLearning//FireAI005/FireAI005_Model2.h5') # 对于一个完整的模型，应该要保存这个"
   ]
  },
  {
   "cell_type": "code",
   "execution_count": 123,
   "metadata": {},
   "outputs": [],
   "source": [
    "# 模型的加载，预测\n",
    "from keras.models import load_model\n",
    "saved_model=load_model('E:\\PyProjects\\DataSet\\FireAI\\DeepLearning//FireAI005/FireAI005_Model2.h5')"
   ]
  },
  {
   "cell_type": "code",
   "execution_count": 124,
   "metadata": {},
   "outputs": [
    {
     "name": "stdout",
     "output_type": "stream",
     "text": [
      "[[0.14361556]\n",
      " [0.5149474 ]\n",
      " [0.71455824]\n",
      " [0.9942463 ]]\n"
     ]
    }
   ],
   "source": [
    "predicted=saved_model.predict_generator(newsample_generator)\n",
    "print(predicted) # saved_model的结果和前面的model结果一致，表面模型正确保存和加载"
   ]
  },
  {
   "cell_type": "code",
   "execution_count": null,
   "metadata": {},
   "outputs": [],
   "source": []
  }
 ],
 "metadata": {
  "kernelspec": {
   "display_name": "Python 3",
   "language": "python",
   "name": "python3"
  },
  "language_info": {
   "codemirror_mode": {
    "name": "ipython",
    "version": 3
   },
   "file_extension": ".py",
   "mimetype": "text/x-python",
   "name": "python",
   "nbconvert_exporter": "python",
   "pygments_lexer": "ipython3",
   "version": "3.6.6"
  }
 },
 "nbformat": 4,
 "nbformat_minor": 2
}
