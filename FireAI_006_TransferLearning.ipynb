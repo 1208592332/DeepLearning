{
 "cells": [
  {
   "cell_type": "code",
   "execution_count": 1,
   "metadata": {},
   "outputs": [],
   "source": [
    "import numpy as np\n",
    "import os,random,shutil\n",
    "np.random.seed(7)"
   ]
  },
  {
   "cell_type": "code",
   "execution_count": 2,
   "metadata": {},
   "outputs": [],
   "source": [
    "# 1, 准备数据集\n",
    "#1，指定一些超参数：\n",
    "train_data_dir='E:\\PyProjects\\DataSet\\DogsVsCats_Tiny/train'\n",
    "val_data_dir='E:\\PyProjects\\DataSet\\DogsVsCats_Tiny/test' # keras中将测试集称为validation set\n",
    "train_samples_num=2000 # train set中全部照片数\n",
    "val_samples_num=800\n",
    "IMG_W,IMG_H,IMG_CH=150,150,3 # 单张图片的大小\n",
    "batch_size=16 # 不能是32，因为2000/32不能整除，后面会有影响。\n",
    "epochs=20  # 用比较少的epochs数目做演示，节约训练时间"
   ]
  },
  {
   "cell_type": "code",
   "execution_count": 5,
   "metadata": {},
   "outputs": [],
   "source": [
    "# 此处的训练集和测试集并不是原始图片的train set和test set，而是用VGG16对图片提取的特征，这些特征组成新的train set和test set\n",
    "from keras.preprocessing.image import ImageDataGenerator\n",
    "from keras.models import Sequential\n",
    "from keras.layers import Dropout, Flatten, Dense\n",
    "from keras import applications\n",
    "def save_bottlebeck_features():\n",
    "    datagen = ImageDataGenerator(rescale=1. / 255) # 不需图片增强\n",
    "\n",
    "    # build the VGG16 network\n",
    "    model = applications.VGG16(include_top=False, weights='imagenet') \n",
    "    # 使用imagenet的weights作为VGG16的初始weights,由于只是特征提取，故而只取前面的卷积层而不需要DenseLayer，故而include_top=False\n",
    "\n",
    "    generator = datagen.flow_from_directory( # 产生train set\n",
    "        train_data_dir,\n",
    "        target_size=(IMG_W, IMG_H),\n",
    "        batch_size=batch_size,\n",
    "        class_mode=None, \n",
    "        shuffle=False) # 必须为False，否则顺序打乱之后，和后面的label对应不上。\n",
    "    bottleneck_features_train = model.predict_generator(\n",
    "        generator, train_samples_num // batch_size) # 如果是32，这个除法得到的是62，抛弃了小数，故而得到1984个sample\n",
    "    np.save('E:\\PyProjects\\DataSet\\FireAI\\DeepLearning\\FireAI006/bottleneck_features_train.npy', bottleneck_features_train)\n",
    "    print('bottleneck features of train set is saved.')\n",
    "\n",
    "    generator = datagen.flow_from_directory(\n",
    "        val_data_dir,\n",
    "        target_size=(IMG_W, IMG_H),\n",
    "        batch_size=batch_size,\n",
    "        class_mode=None,\n",
    "        shuffle=False)\n",
    "    bottleneck_features_validation = model.predict_generator(\n",
    "        generator, val_samples_num // batch_size)\n",
    "    np.save('E:\\PyProjects\\DataSet\\FireAI\\DeepLearning\\FireAI006/bottleneck_features_val.npy',bottleneck_features_validation)\n",
    "    print('bottleneck features of test set is saved.')"
   ]
  },
  {
   "cell_type": "code",
   "execution_count": 6,
   "metadata": {},
   "outputs": [
    {
     "name": "stdout",
     "output_type": "stream",
     "text": [
      "Found 2000 images belonging to 2 classes.\n",
      "bottleneck features of train set is saved.\n",
      "Found 800 images belonging to 2 classes.\n",
      "bottleneck features of test set is saved.\n"
     ]
    }
   ],
   "source": [
    "save_bottlebeck_features()"
   ]
  },
  {
   "cell_type": "code",
   "execution_count": 12,
   "metadata": {},
   "outputs": [],
   "source": [
    "def my_model():\n",
    "    '''\n",
    "    自定义一个模型，该模型仅仅相当于一个分类器，只包含有全连接层，对提取的特征进行分类即可\n",
    "    :return:\n",
    "    '''\n",
    "    # 模型的结构\n",
    "    model = Sequential()\n",
    "    model.add(Flatten(input_shape=train_data.shape[1:])) # 将所有data进行flatten\n",
    "    model.add(Dense(256, activation='relu')) # 256个全连接单元\n",
    "    model.add(Dropout(0.5)) # dropout正则\n",
    "    model.add(Dense(1, activation='sigmoid')) # 此处定义的模型只有后面的全连接层，由于是本项目特殊的，故而需要自定义\n",
    "\n",
    "    # 模型的配置\n",
    "    model.compile(optimizer='rmsprop',\n",
    "                  loss='binary_crossentropy', metrics=['accuracy']) # model的optimizer等\n",
    "\n",
    "    return model"
   ]
  },
  {
   "cell_type": "code",
   "execution_count": null,
   "metadata": {},
   "outputs": [],
   "source": []
  },
  {
   "cell_type": "code",
   "execution_count": 13,
   "metadata": {},
   "outputs": [
    {
     "name": "stdout",
     "output_type": "stream",
     "text": [
      "Train on 2000 samples, validate on 800 samples\n",
      "Epoch 1/20\n",
      "2000/2000 [==============================] - 6s 3ms/step - loss: 0.8426 - acc: 0.7455 - val_loss: 0.4280 - val_acc: 0.8063\n",
      "Epoch 2/20\n",
      "2000/2000 [==============================] - 5s 3ms/step - loss: 0.3928 - acc: 0.8365 - val_loss: 0.3078 - val_acc: 0.8675\n",
      "Epoch 3/20\n",
      "2000/2000 [==============================] - 5s 3ms/step - loss: 0.3144 - acc: 0.8720 - val_loss: 0.4106 - val_acc: 0.8588\n",
      "Epoch 4/20\n",
      "2000/2000 [==============================] - 5s 3ms/step - loss: 0.3032 - acc: 0.8830 - val_loss: 0.3058 - val_acc: 0.8850\n",
      "Epoch 5/20\n",
      "2000/2000 [==============================] - 5s 3ms/step - loss: 0.2446 - acc: 0.9050 - val_loss: 0.3050 - val_acc: 0.8962\n",
      "Epoch 6/20\n",
      "2000/2000 [==============================] - 5s 3ms/step - loss: 0.2199 - acc: 0.9120 - val_loss: 0.3157 - val_acc: 0.8975\n",
      "Epoch 7/20\n",
      "2000/2000 [==============================] - 5s 3ms/step - loss: 0.2057 - acc: 0.9225 - val_loss: 0.3591 - val_acc: 0.8812\n",
      "Epoch 8/20\n",
      "2000/2000 [==============================] - 5s 3ms/step - loss: 0.1954 - acc: 0.9235 - val_loss: 0.4171 - val_acc: 0.8762\n",
      "Epoch 9/20\n",
      "2000/2000 [==============================] - 5s 3ms/step - loss: 0.1391 - acc: 0.9475 - val_loss: 0.4773 - val_acc: 0.8738\n",
      "Epoch 10/20\n",
      "2000/2000 [==============================] - 5s 3ms/step - loss: 0.1478 - acc: 0.9480 - val_loss: 0.4436 - val_acc: 0.8788\n",
      "Epoch 11/20\n",
      "2000/2000 [==============================] - 5s 3ms/step - loss: 0.1105 - acc: 0.9590 - val_loss: 0.4566 - val_acc: 0.8800\n",
      "Epoch 12/20\n",
      "2000/2000 [==============================] - 5s 3ms/step - loss: 0.1005 - acc: 0.9575 - val_loss: 0.4178 - val_acc: 0.8812\n",
      "Epoch 13/20\n",
      "2000/2000 [==============================] - 5s 3ms/step - loss: 0.0987 - acc: 0.9660 - val_loss: 0.4127 - val_acc: 0.8888\n",
      "Epoch 14/20\n",
      "2000/2000 [==============================] - 5s 3ms/step - loss: 0.0927 - acc: 0.9660 - val_loss: 0.4777 - val_acc: 0.8888\n",
      "Epoch 15/20\n",
      "2000/2000 [==============================] - 5s 3ms/step - loss: 0.0692 - acc: 0.9735 - val_loss: 0.4671 - val_acc: 0.8838\n",
      "Epoch 16/20\n",
      "2000/2000 [==============================] - 5s 3ms/step - loss: 0.0775 - acc: 0.9745 - val_loss: 0.5790 - val_acc: 0.8812\n",
      "Epoch 17/20\n",
      "2000/2000 [==============================] - 5s 3ms/step - loss: 0.0650 - acc: 0.9775 - val_loss: 0.4669 - val_acc: 0.8988\n",
      "Epoch 18/20\n",
      "2000/2000 [==============================] - 5s 3ms/step - loss: 0.0479 - acc: 0.9830 - val_loss: 0.5380 - val_acc: 0.9025\n",
      "Epoch 19/20\n",
      "2000/2000 [==============================] - 5s 3ms/step - loss: 0.0600 - acc: 0.9775 - val_loss: 0.5357 - val_acc: 0.8988\n",
      "Epoch 20/20\n",
      "2000/2000 [==============================] - 5s 3ms/step - loss: 0.0551 - acc: 0.9810 - val_loss: 0.6057 - val_acc: 0.8825\n"
     ]
    }
   ],
   "source": [
    "# 只需要训练分类器模型即可，不需要训练特征提取器\n",
    "train_data = np.load('E:\\PyProjects\\DataSet\\FireAI\\DeepLearning\\FireAI006/bottleneck_features_train.npy') # 加载训练图片集的所有图片的VGG16-notop特征\n",
    "train_labels = np.array(\n",
    "    [0] * int((train_samples_num / 2)) + [1] * int((train_samples_num / 2)))\n",
    "# label是1000个cat，1000个dog，由于此处VGG16特征提取时是按照顺序，故而[0]表示cat，1表示dog\n",
    "\n",
    "validation_data = np.load('E:\\PyProjects\\DataSet\\FireAI\\DeepLearning\\FireAI006/bottleneck_features_val.npy')\n",
    "validation_labels = np.array(\n",
    "    [0] * int((val_samples_num / 2)) + [1] * int((val_samples_num / 2)))\n",
    "\n",
    "# 构建分类器模型\n",
    "clf_model=my_model()\n",
    "history_ft = clf_model.fit(train_data, train_labels,\n",
    "              epochs=epochs,\n",
    "              batch_size=batch_size,\n",
    "              validation_data=(validation_data, validation_labels))"
   ]
  },
  {
   "cell_type": "code",
   "execution_count": 14,
   "metadata": {},
   "outputs": [],
   "source": [
    "# 画图，将训练时的acc和loss都绘制到图上\n",
    "import matplotlib.pyplot as plt\n",
    "%matplotlib inline\n",
    "def plot_training(history):\n",
    "    plt.figure(12)\n",
    "    \n",
    "    plt.subplot(121)\n",
    "    train_acc = history.history['acc']\n",
    "    val_acc = history.history['val_acc']\n",
    "    epochs = range(len(train_acc))\n",
    "    plt.plot(epochs, train_acc, 'b',label='train_acc')\n",
    "    plt.plot(epochs, val_acc, 'r',label='test_acc')\n",
    "    plt.title('Train and Test accuracy')\n",
    "    plt.legend()\n",
    "    \n",
    "    plt.subplot(122)\n",
    "    train_loss = history.history['loss']\n",
    "    val_loss = history.history['val_loss']\n",
    "    epochs = range(len(train_loss))\n",
    "    plt.plot(epochs, train_loss, 'b',label='train_loss')\n",
    "    plt.plot(epochs, val_loss, 'r',label='test_loss')\n",
    "    plt.title('Train and Test loss')\n",
    "    plt.legend()\n",
    " \n",
    "    plt.show()"
   ]
  },
  {
   "cell_type": "code",
   "execution_count": 15,
   "metadata": {},
   "outputs": [
    {
     "data": {
      "image/png": "[encoded data removed]",
      "text/plain": [
       "<Figure size 432x288 with 2 Axes>"
      ]
     },
     "metadata": {},
     "output_type": "display_data"
    }
   ],
   "source": [
    "plot_training(history_ft)"
   ]
  },
  {
   "cell_type": "code",
   "execution_count": 16,
   "metadata": {},
   "outputs": [],
   "source": [
    "# 将本模型保存一下\n",
    "clf_model.save_weights('E:\\PyProjects\\DataSet\\FireAI\\DeepLearning\\FireAI006/top_FC_model')"
   ]
  },
  {
   "cell_type": "code",
   "execution_count": null,
   "metadata": {},
   "outputs": [],
   "source": []
  }
 ],
 "metadata": {
  "kernelspec": {
   "display_name": "Python 3",
   "language": "python",
   "name": "python3"
  },
  "language_info": {
   "codemirror_mode": {
    "name": "ipython",
    "version": 3
   },
   "file_extension": ".py",
   "mimetype": "text/x-python",
   "name": "python",
   "nbconvert_exporter": "python",
   "pygments_lexer": "ipython3",
   "version": "3.6.6"
  }
 },
 "nbformat": 4,
 "nbformat_minor": 2
}
