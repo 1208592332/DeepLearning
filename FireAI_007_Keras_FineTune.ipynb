{
 "cells": [
  {
   "cell_type": "code",
   "execution_count": 1,
   "metadata": {},
   "outputs": [],
   "source": [
    "import numpy as np\n",
    "import os,random,shutil\n",
    "np.random.seed(7)"
   ]
  },
  {
   "cell_type": "code",
   "execution_count": 2,
   "metadata": {},
   "outputs": [],
   "source": [
    "# 1, 准备数据集\n",
    "#1，指定一些超参数：\n",
    "train_data_dir='E:\\PyProjects\\DataSet\\DogsVsCats_Tiny/train'\n",
    "val_data_dir='E:\\PyProjects\\DataSet\\DogsVsCats_Tiny/test' # keras中将测试集称为validation set\n",
    "train_samples_num=2000 # train set中全部照片数\n",
    "val_samples_num=800\n",
    "IMG_W,IMG_H,IMG_CH=150,150,3 # 单张图片的大小\n",
    "batch_size=16 # 不能是32，因为2000/32不能整除，后面会有影响。\n",
    "epochs=20  # 用比较少的epochs数目做演示，节约训练时间"
   ]
  },
  {
   "cell_type": "code",
   "execution_count": 3,
   "metadata": {},
   "outputs": [
    {
     "name": "stderr",
     "output_type": "stream",
     "text": [
      "Using TensorFlow backend.\n"
     ]
    },
    {
     "name": "stdout",
     "output_type": "stream",
     "text": [
      "Found 2000 images belonging to 2 classes.\n"
     ]
    }
   ],
   "source": [
    "# 2，准备图片数据流\n",
    "from keras.preprocessing.image import ImageDataGenerator\n",
    "train_datagen = ImageDataGenerator( # 单张图片的处理方式，train时一般都会进行图片增强\n",
    "        rescale=1. / 255, # 图片像素值为0-255，此处都乘以1/255，调整到0-1之间\n",
    "        shear_range=0.2, # 斜切\n",
    "        zoom_range=0.2, # 放大缩小范围\n",
    "        horizontal_flip=True) # 水平翻转\n",
    "\n",
    "train_generator = train_datagen.flow_from_directory(# 从文件夹中产生数据流\n",
    "    train_data_dir, # 训练集图片的文件夹\n",
    "    target_size=(IMG_W, IMG_H), # 调整后每张图片的大小\n",
    "    batch_size=batch_size,\n",
    "    class_mode='binary') # 此处是二分类问题，故而mode是binary"
   ]
  },
  {
   "cell_type": "code",
   "execution_count": 4,
   "metadata": {},
   "outputs": [
    {
     "name": "stdout",
     "output_type": "stream",
     "text": [
      "Found 800 images belonging to 2 classes.\n"
     ]
    }
   ],
   "source": [
    "# 3，同样的方式准备测试集\n",
    "val_datagen = ImageDataGenerator(rescale=1. / 255) # 只需要和trainset同样的scale即可，不需增强\n",
    "val_generator = val_datagen.flow_from_directory(\n",
    "        val_data_dir,\n",
    "        target_size=(IMG_W, IMG_H),\n",
    "        batch_size=batch_size,\n",
    "        class_mode='binary')"
   ]
  },
  {
   "cell_type": "code",
   "execution_count": 5,
   "metadata": {},
   "outputs": [],
   "source": [
    "# 4，构建模型\n",
    "from keras.preprocessing.image import ImageDataGenerator\n",
    "from keras.models import Sequential\n",
    "from keras.layers import Dropout, Flatten, Dense\n",
    "from keras import applications\n",
    "from keras import optimizers\n",
    "from keras.models import Model\n",
    "def build_model():\n",
    "    base_model = applications.VGG16(weights='imagenet', include_top=False,input_shape=(IMG_W, IMG_H,IMG_CH))\n",
    "    # 此处我们只需要卷积层不需要全连接层，故而inclue_top=False,一定要设置input_shape，否则后面会报错\n",
    "    # 这一步使用applications模块自带的VGG16函数直接加载了模型和参数，作为我们自己模型的“身子”\n",
    "    \n",
    "    # 下面定义我们自己的分类器，作为我们自己模型的“头”\n",
    "    top_model = Sequential()\n",
    "    top_model.add(Flatten(input_shape=base_model.output_shape[1:])) # 如果没有设置input_shape,这个地方报错，显示output_shape有很多None\n",
    "    top_model.add(Dense(256, activation='relu'))\n",
    "    top_model.add(Dropout(0.5))\n",
    "    top_model.add(Dense(1, activation='sigmoid')) # 二分类问题\n",
    "    \n",
    "    top_model.load_weights('E:\\PyProjects\\DataSet\\FireAI\\DeepLearning\\FireAI006/top_FC_model') \n",
    "    # 上面定义了模型结构，此处要把训练好的参数加载进来，\n",
    "    \n",
    "    my_model = Model(inputs=base_model.input, outputs=top_model(base_model.output)) # 将“身子”和“头”组装到一起\n",
    "    # my_model就是我们组装好的完整的模型，也已经加载了各自的weights\n",
    "    \n",
    "    # 普通的模型需要对所有层的weights进行训练调整，但是此处我们只调整VGG16的后面几个卷积层，所以前面的卷积层要冻结起来\n",
    "    for layer in my_model.layers[:25]: # 25层之前都是不需训练的\n",
    "        layer.trainable = False\n",
    "        \n",
    "    # 模型的配置\n",
    "    my_model.compile(loss='binary_crossentropy',\n",
    "                  optimizer=optimizers.SGD(lr=1e-4, momentum=0.9), # 使用一个非常小的lr来微调\n",
    "                  metrics=['accuracy'])\n",
    "    return my_model"
   ]
  },
  {
   "cell_type": "code",
   "execution_count": 6,
   "metadata": {},
   "outputs": [
    {
     "name": "stdout",
     "output_type": "stream",
     "text": [
      "start to fine-tune my model\n",
      "Epoch 1/20\n",
      "125/125 [==============================] - 614s 5s/step - loss: 0.3368 - acc: 0.9190 - val_loss: 0.6057 - val_acc: 0.8825\n",
      "Epoch 2/20\n",
      "125/125 [==============================] - 642s 5s/step - loss: 0.3294 - acc: 0.9175 - val_loss: 0.6057 - val_acc: 0.8825\n",
      "Epoch 3/20\n",
      "125/125 [==============================] - 646s 5s/step - loss: 0.3214 - acc: 0.9210 - val_loss: 0.6057 - val_acc: 0.8825\n",
      "Epoch 4/20\n",
      "125/125 [==============================] - 654s 5s/step - loss: 0.3324 - acc: 0.9130 - val_loss: 0.6057 - val_acc: 0.8825\n",
      "Epoch 5/20\n",
      "125/125 [==============================] - 639s 5s/step - loss: 0.3013 - acc: 0.9170 - val_loss: 0.6057 - val_acc: 0.8825\n",
      "Epoch 6/20\n",
      "125/125 [==============================] - 633s 5s/step - loss: 0.3490 - acc: 0.9140 - val_loss: 0.6057 - val_acc: 0.8825\n",
      "Epoch 7/20\n",
      "125/125 [==============================] - 618s 5s/step - loss: 0.3173 - acc: 0.9165 - val_loss: 0.6057 - val_acc: 0.8825\n",
      "Epoch 8/20\n",
      "125/125 [==============================] - 610s 5s/step - loss: 0.3006 - acc: 0.9165 - val_loss: 0.6057 - val_acc: 0.8825\n",
      "Epoch 9/20\n",
      "125/125 [==============================] - 612s 5s/step - loss: 0.3201 - acc: 0.9160 - val_loss: 0.6057 - val_acc: 0.8825\n",
      "Epoch 10/20\n",
      "125/125 [==============================] - 613s 5s/step - loss: 0.3075 - acc: 0.9155 - val_loss: 0.6057 - val_acc: 0.8825\n",
      "Epoch 11/20\n",
      "125/125 [==============================] - 612s 5s/step - loss: 0.3680 - acc: 0.9210 - val_loss: 0.6057 - val_acc: 0.8825\n",
      "Epoch 12/20\n",
      "125/125 [==============================] - 612s 5s/step - loss: 0.2877 - acc: 0.9250 - val_loss: 0.6057 - val_acc: 0.8825\n",
      "Epoch 13/20\n",
      "125/125 [==============================] - 612s 5s/step - loss: 0.2760 - acc: 0.9295 - val_loss: 0.6057 - val_acc: 0.8825\n",
      "Epoch 14/20\n",
      "125/125 [==============================] - 610s 5s/step - loss: 0.3218 - acc: 0.9185 - val_loss: 0.6057 - val_acc: 0.8825\n",
      "Epoch 15/20\n",
      "125/125 [==============================] - 611s 5s/step - loss: 0.3274 - acc: 0.9165 - val_loss: 0.6057 - val_acc: 0.8825\n",
      "Epoch 16/20\n",
      "125/125 [==============================] - 612s 5s/step - loss: 0.3147 - acc: 0.9215 - val_loss: 0.6057 - val_acc: 0.8825\n",
      "Epoch 17/20\n",
      "125/125 [==============================] - 609s 5s/step - loss: 0.3448 - acc: 0.9130 - val_loss: 0.6057 - val_acc: 0.8825\n",
      "Epoch 18/20\n",
      "125/125 [==============================] - 608s 5s/step - loss: 0.3287 - acc: 0.9140 - val_loss: 0.6057 - val_acc: 0.8825\n",
      "Epoch 19/20\n",
      "125/125 [==============================] - 608s 5s/step - loss: 0.3169 - acc: 0.9200 - val_loss: 0.6057 - val_acc: 0.8825\n",
      "Epoch 20/20\n",
      "125/125 [==============================] - 607s 5s/step - loss: 0.3029 - acc: 0.9210 - val_loss: 0.6057 - val_acc: 0.8825\n"
     ]
    }
   ],
   "source": [
    "# 开始用train set来微调模型的参数\n",
    "print('start to fine-tune my model')\n",
    "my_model=build_model()\n",
    "history_ft = my_model.fit_generator(\n",
    "        train_generator,\n",
    "        steps_per_epoch=train_samples_num // batch_size,\n",
    "        epochs=epochs,\n",
    "        validation_data=val_generator,\n",
    "        validation_steps=val_samples_num // batch_size)"
   ]
  },
  {
   "cell_type": "code",
   "execution_count": 7,
   "metadata": {},
   "outputs": [],
   "source": [
    "# 画图，将训练时的acc和loss都绘制到图上\n",
    "import matplotlib.pyplot as plt\n",
    "%matplotlib inline\n",
    "def plot_training(history):\n",
    "    plt.figure(12)\n",
    "    \n",
    "    plt.subplot(121)\n",
    "    train_acc = history.history['acc']\n",
    "    val_acc = history.history['val_acc']\n",
    "    epochs = range(len(train_acc))\n",
    "    plt.plot(epochs, train_acc, 'b',label='train_acc')\n",
    "    plt.plot(epochs, val_acc, 'r',label='test_acc')\n",
    "    plt.title('Train and Test accuracy')\n",
    "    plt.legend()\n",
    "    \n",
    "    plt.subplot(122)\n",
    "    train_loss = history.history['loss']\n",
    "    val_loss = history.history['val_loss']\n",
    "    epochs = range(len(train_loss))\n",
    "    plt.plot(epochs, train_loss, 'b',label='train_loss')\n",
    "    plt.plot(epochs, val_loss, 'r',label='test_loss')\n",
    "    plt.title('Train and Test loss')\n",
    "    plt.legend()\n",
    " \n",
    "    plt.show()"
   ]
  },
  {
   "cell_type": "code",
   "execution_count": 8,
   "metadata": {},
   "outputs": [
    {
     "data": {
      "image/png": "[encoded data removed]",
      "text/plain": [
       "<Figure size 432x288 with 2 Axes>"
      ]
     },
     "metadata": {},
     "output_type": "display_data"
    }
   ],
   "source": [
    "plot_training(history_ft)"
   ]
  },
  {
   "cell_type": "code",
   "execution_count": null,
   "metadata": {},
   "outputs": [],
   "source": []
  },
  {
   "cell_type": "code",
   "execution_count": 10,
   "metadata": {},
   "outputs": [],
   "source": [
    "# 很明显，这个训练有问题，在测试集上的表现一直没有变化，本来我想删除上面的结果，重新来做一遍，但考虑也许以后也会有人碰到同样的情况，故而保留。\n",
    "# 通过print(len(my_model.layers))可以发现my_model整个的层数是20层，上面我们设置25层都不是trainable，所以把整个网络层都freeze掉，\n",
    "# 这样就不能更改其中的weights,所以每次在test set上的表现都一样，都是用最原始的weights来测试。"
   ]
  },
  {
   "cell_type": "code",
   "execution_count": 13,
   "metadata": {},
   "outputs": [],
   "source": [
    "# 上面的build_model2中间的my_model.layers[:25]要修改为my_model.layers[:15]，原博文此处也是错的。\n",
    "# 4，构建模型\n",
    "from keras.preprocessing.image import ImageDataGenerator\n",
    "from keras.models import Sequential\n",
    "from keras.layers import Dropout, Flatten, Dense\n",
    "from keras import applications\n",
    "from keras import optimizers\n",
    "from keras.models import Model\n",
    "def build_model2():\n",
    "    base_model = applications.VGG16(weights='imagenet', include_top=False,input_shape=(IMG_W, IMG_H,IMG_CH))\n",
    "    # 此处我们只需要卷积层不需要全连接层，故而inclue_top=False,一定要设置input_shape，否则后面会报错\n",
    "    # 这一步使用applications模块自带的VGG16函数直接加载了模型和参数，作为我们自己模型的“身子”\n",
    "    \n",
    "    # 下面定义我们自己的分类器，作为我们自己模型的“头”\n",
    "    top_model = Sequential()\n",
    "    top_model.add(Flatten(input_shape=base_model.output_shape[1:])) # 如果没有设置input_shape,这个地方报错，显示output_shape有很多None\n",
    "    top_model.add(Dense(256, activation='relu'))\n",
    "    top_model.add(Dropout(0.5))\n",
    "    top_model.add(Dense(1, activation='sigmoid')) # 二分类问题\n",
    "    \n",
    "    top_model.load_weights('E:\\PyProjects\\DataSet\\FireAI\\DeepLearning\\FireAI006/top_FC_model') \n",
    "    # 上面定义了模型结构，此处要把训练好的参数加载进来，\n",
    "    \n",
    "    my_model = Model(inputs=base_model.input, outputs=top_model(base_model.output)) # 将“身子”和“头”组装到一起\n",
    "    # my_model就是我们组装好的完整的模型，也已经加载了各自的weights\n",
    "    \n",
    "    # 普通的模型需要对所有层的weights进行训练调整，但是此处我们只调整VGG16的后面几个卷积层，所以前面的卷积层要冻结起来\n",
    "    for layer in my_model.layers[:15]: # 15层之前都是不需训练的，原博文此处也是错的。我晕。。。。\n",
    "        layer.trainable = False\n",
    "        \n",
    "    # 模型的配置\n",
    "    my_model.compile(loss='binary_crossentropy',\n",
    "                  optimizer=optimizers.SGD(lr=1e-4, momentum=0.9), # 使用一个非常小的lr来微调\n",
    "                  metrics=['accuracy'])\n",
    "    return my_model"
   ]
  },
  {
   "cell_type": "code",
   "execution_count": 14,
   "metadata": {},
   "outputs": [
    {
     "name": "stdout",
     "output_type": "stream",
     "text": [
      "start to train model2\n",
      "Epoch 1/20\n",
      "125/125 [==============================] - 727s 6s/step - loss: 0.3288 - acc: 0.8865 - val_loss: 0.2991 - val_acc: 0.9113\n",
      "Epoch 2/20\n",
      "125/125 [==============================] - 732s 6s/step - loss: 0.1822 - acc: 0.9395 - val_loss: 0.2988 - val_acc: 0.9113\n",
      "Epoch 3/20\n",
      "125/125 [==============================] - 724s 6s/step - loss: 0.1557 - acc: 0.9445 - val_loss: 0.2742 - val_acc: 0.9125\n",
      "Epoch 4/20\n",
      "125/125 [==============================] - 726s 6s/step - loss: 0.1206 - acc: 0.9550 - val_loss: 0.3038 - val_acc: 0.9200\n",
      "Epoch 5/20\n",
      "125/125 [==============================] - 731s 6s/step - loss: 0.0977 - acc: 0.9685 - val_loss: 0.2691 - val_acc: 0.9225\n",
      "Epoch 6/20\n",
      "125/125 [==============================] - 715s 6s/step - loss: 0.0738 - acc: 0.9745 - val_loss: 0.3476 - val_acc: 0.9113\n",
      "Epoch 7/20\n",
      "125/125 [==============================] - 711s 6s/step - loss: 0.0916 - acc: 0.9690 - val_loss: 0.2683 - val_acc: 0.9263\n",
      "Epoch 8/20\n",
      "125/125 [==============================] - 731s 6s/step - loss: 0.0685 - acc: 0.9735 - val_loss: 0.2951 - val_acc: 0.9237\n",
      "Epoch 9/20\n",
      "125/125 [==============================] - 711s 6s/step - loss: 0.0569 - acc: 0.9850 - val_loss: 0.3019 - val_acc: 0.9287\n",
      "Epoch 10/20\n",
      "125/125 [==============================] - 719s 6s/step - loss: 0.0479 - acc: 0.9825 - val_loss: 0.2878 - val_acc: 0.9237\n",
      "Epoch 11/20\n",
      "125/125 [==============================] - 723s 6s/step - loss: 0.0481 - acc: 0.9815 - val_loss: 0.3174 - val_acc: 0.9287\n",
      "Epoch 12/20\n",
      "125/125 [==============================] - 729s 6s/step - loss: 0.0330 - acc: 0.9905 - val_loss: 0.3103 - val_acc: 0.9300\n",
      "Epoch 13/20\n",
      "125/125 [==============================] - 717s 6s/step - loss: 0.0432 - acc: 0.9875 - val_loss: 0.2846 - val_acc: 0.9387\n",
      "Epoch 14/20\n",
      "125/125 [==============================] - 708s 6s/step - loss: 0.0259 - acc: 0.9895 - val_loss: 0.3355 - val_acc: 0.9363\n",
      "Epoch 15/20\n",
      "125/125 [==============================] - 708s 6s/step - loss: 0.0253 - acc: 0.9915 - val_loss: 0.2992 - val_acc: 0.9313\n",
      "Epoch 16/20\n",
      "125/125 [==============================] - 709s 6s/step - loss: 0.0286 - acc: 0.9895 - val_loss: 0.2601 - val_acc: 0.9325\n",
      "Epoch 17/20\n",
      "125/125 [==============================] - 721s 6s/step - loss: 0.0226 - acc: 0.9940 - val_loss: 0.3419 - val_acc: 0.9250\n",
      "Epoch 18/20\n",
      "125/125 [==============================] - 703s 6s/step - loss: 0.0260 - acc: 0.9905 - val_loss: 0.3304 - val_acc: 0.9313\n",
      "Epoch 19/20\n",
      "125/125 [==============================] - 704s 6s/step - loss: 0.0138 - acc: 0.9955 - val_loss: 0.3267 - val_acc: 0.9413\n",
      "Epoch 20/20\n",
      "125/125 [==============================] - 705s 6s/step - loss: 0.0103 - acc: 0.9960 - val_loss: 0.3551 - val_acc: 0.9325\n"
     ]
    }
   ],
   "source": [
    "# 开始用train set来微调模型的参数\n",
    "print('start to train model2')\n",
    "my_model2=build_model2()\n",
    "history_ft2 = my_model2.fit_generator(\n",
    "        train_generator,\n",
    "        steps_per_epoch=train_samples_num // batch_size,\n",
    "        epochs=epochs,\n",
    "        validation_data=val_generator,\n",
    "        validation_steps=val_samples_num // batch_size)"
   ]
  },
  {
   "cell_type": "code",
   "execution_count": 15,
   "metadata": {},
   "outputs": [
    {
     "data": {
      "image/png": "[encoded data removed]",
      "text/plain": [
       "<Figure size 432x288 with 2 Axes>"
      ]
     },
     "metadata": {},
     "output_type": "display_data"
    }
   ],
   "source": [
    "plot_training(history_ft2)"
   ]
  },
  {
   "cell_type": "code",
   "execution_count": null,
   "metadata": {},
   "outputs": [],
   "source": []
  }
 ],
 "metadata": {
  "kernelspec": {
   "display_name": "Python 3",
   "language": "python",
   "name": "python3"
  },
  "language_info": {
   "codemirror_mode": {
    "name": "ipython",
    "version": 3
   },
   "file_extension": ".py",
   "mimetype": "text/x-python",
   "name": "python",
   "nbconvert_exporter": "python",
   "pygments_lexer": "ipython3",
   "version": "3.6.6"
  }
 },
 "nbformat": 4,
 "nbformat_minor": 2
}
