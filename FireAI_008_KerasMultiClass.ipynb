{
 "cells": [
  {
   "cell_type": "code",
   "execution_count": 1,
   "metadata": {},
   "outputs": [],
   "source": [
    "import numpy as np\n",
    "import os,random,shutil\n",
    "np.random.seed(7)"
   ]
  },
  {
   "cell_type": "code",
   "execution_count": 2,
   "metadata": {},
   "outputs": [],
   "source": [
    "# 为Keras模型准备数据集\n",
    "#1，指定一些超参数：\n",
    "FOLDER='E:\\PyProjects\\DataSet\\Small_set_5_Class'\n",
    "train_data_dir=os.path.join(FOLDER,'train')\n",
    "val_data_dir=os.path.join(FOLDER,'test')\n",
    "train_samples_num=400 # train set中全部照片数\n",
    "val_samples_num=100\n",
    "IMG_W,IMG_H,IMG_CH=150,150,3 # 单张图片的大小\n",
    "batch_size=32\n",
    "epochs=50  # 用比较少的epochs数目做演示，节约训练时间\n",
    "class_num=5 # 此处有5个类别"
   ]
  },
  {
   "cell_type": "code",
   "execution_count": 3,
   "metadata": {},
   "outputs": [
    {
     "name": "stderr",
     "output_type": "stream",
     "text": [
      "Using TensorFlow backend.\n"
     ]
    },
    {
     "name": "stdout",
     "output_type": "stream",
     "text": [
      "Found 400 images belonging to 5 classes.\n"
     ]
    }
   ],
   "source": [
    "# 2，准备训练集，keras有很多Generator可以直接处理图片的加载，增强等操作，封装的非常好\n",
    "from keras.preprocessing.image import ImageDataGenerator\n",
    "train_datagen = ImageDataGenerator( # 单张图片的处理方式，train时一般都会进行图片增强\n",
    "        rescale=1. / 255, # 图片像素值为0-255，此处都乘以1/255，调整到0-1之间\n",
    "        shear_range=0.2, # 斜切\n",
    "        zoom_range=0.2, # 放大缩小范围\n",
    "        horizontal_flip=True) # 水平翻转\n",
    "\n",
    "train_generator = train_datagen.flow_from_directory(# 从文件夹中产生数据流\n",
    "    train_data_dir, # 训练集图片的文件夹\n",
    "    target_size=(IMG_W, IMG_H), # 调整后每张图片的大小\n",
    "    batch_size=batch_size,\n",
    "    class_mode='categorical') # 此处是多分类问题，故而mode是categorical"
   ]
  },
  {
   "cell_type": "code",
   "execution_count": 4,
   "metadata": {},
   "outputs": [
    {
     "name": "stdout",
     "output_type": "stream",
     "text": [
      "Found 100 images belonging to 5 classes.\n"
     ]
    }
   ],
   "source": [
    "# 3，同样的方式准备测试集\n",
    "val_datagen = ImageDataGenerator(rescale=1. / 255) # 只需要和trainset同样的scale即可，不需增强\n",
    "val_generator = val_datagen.flow_from_directory(\n",
    "        val_data_dir,\n",
    "        target_size=(IMG_W, IMG_H),\n",
    "        batch_size=batch_size,\n",
    "        class_mode='categorical')"
   ]
  },
  {
   "cell_type": "code",
   "execution_count": 5,
   "metadata": {},
   "outputs": [],
   "source": [
    "# 4，建立Keras模型：模型的建立主要包括模型的搭建，模型的配置\n",
    "from keras.models import Sequential\n",
    "from keras.layers import Conv2D, MaxPooling2D\n",
    "from keras.layers import Activation, Dropout, Flatten, Dense\n",
    "from keras import optimizers\n",
    "def build_model(input_shape):\n",
    "    # 模型的搭建：此处构建三个CNN层+2个全连接层的结构\n",
    "    model = Sequential()\n",
    "    model.add(Conv2D(32, (3, 3), input_shape=input_shape))\n",
    "    model.add(Activation('relu'))\n",
    "    model.add(MaxPooling2D(pool_size=(2, 2)))\n",
    "\n",
    "    model.add(Conv2D(32, (3, 3)))\n",
    "    model.add(Activation('relu'))\n",
    "    model.add(MaxPooling2D(pool_size=(2, 2)))\n",
    "\n",
    "    model.add(Conv2D(64, (3, 3)))\n",
    "    model.add(Activation('relu'))\n",
    "    model.add(MaxPooling2D(pool_size=(2, 2)))\n",
    "\n",
    "    model.add(Flatten())\n",
    "    model.add(Dense(64))\n",
    "    model.add(Activation('relu'))\n",
    "    model.add(Dropout(0.5)) # Dropout防止过拟合\n",
    "    model.add(Dense(class_num)) # 此处多分类问题，用Dense(class_num)\n",
    "    model.add(Activation('softmax')) #多分类问题用softmax作为activation function\n",
    "    \n",
    "    # 模型的配置\n",
    "    model.compile(loss='categorical_crossentropy', # 定义模型的loss func，optimizer，\n",
    "                  optimizer=optimizers.RMSprop(), # 使用默认的lr=0.001\n",
    "                  metrics=['accuracy'])# 主要优化accuracy\n",
    "\n",
    "    return model # 返回构建好的模型"
   ]
  },
  {
   "cell_type": "code",
   "execution_count": 6,
   "metadata": {},
   "outputs": [
    {
     "name": "stdout",
     "output_type": "stream",
     "text": [
      "Epoch 1/50\n",
      "12/12 [==============================] - 24s 2s/step - loss: 2.6734 - acc: 0.2376 - val_loss: 1.4268 - val_acc: 0.4583\n",
      "Epoch 2/50\n",
      "12/12 [==============================] - 24s 2s/step - loss: 1.4014 - acc: 0.4170 - val_loss: 0.9835 - val_acc: 0.8229\n",
      "Epoch 3/50\n",
      "12/12 [==============================] - 24s 2s/step - loss: 1.2627 - acc: 0.4865 - val_loss: 1.3209 - val_acc: 0.3958\n",
      "Epoch 4/50\n",
      "12/12 [==============================] - 24s 2s/step - loss: 1.1877 - acc: 0.5496 - val_loss: 0.6752 - val_acc: 0.7708\n",
      "Epoch 5/50\n",
      "12/12 [==============================] - 23s 2s/step - loss: 0.9243 - acc: 0.6801 - val_loss: 1.0047 - val_acc: 0.5833\n",
      "Epoch 6/50\n",
      "12/12 [==============================] - 26s 2s/step - loss: 0.9172 - acc: 0.6693 - val_loss: 0.7542 - val_acc: 0.7500\n",
      "Epoch 7/50\n",
      "12/12 [==============================] - 24s 2s/step - loss: 0.5917 - acc: 0.8073 - val_loss: 1.1518 - val_acc: 0.6979\n",
      "Epoch 8/50\n",
      "12/12 [==============================] - 25s 2s/step - loss: 0.8342 - acc: 0.7135 - val_loss: 0.9778 - val_acc: 0.6354\n",
      "Epoch 9/50\n",
      "12/12 [==============================] - 25s 2s/step - loss: 0.6113 - acc: 0.7765 - val_loss: 0.3856 - val_acc: 0.8333\n",
      "Epoch 10/50\n",
      "12/12 [==============================] - 25s 2s/step - loss: 1.0554 - acc: 0.7239 - val_loss: 0.5599 - val_acc: 0.7812\n",
      "Epoch 11/50\n",
      "12/12 [==============================] - 25s 2s/step - loss: 0.4801 - acc: 0.8262 - val_loss: 0.4683 - val_acc: 0.8333\n",
      "Epoch 12/50\n",
      "12/12 [==============================] - 24s 2s/step - loss: 1.2470 - acc: 0.6821 - val_loss: 0.4899 - val_acc: 0.8438\n",
      "Epoch 13/50\n",
      "12/12 [==============================] - 24s 2s/step - loss: 0.6440 - acc: 0.7914 - val_loss: 0.4405 - val_acc: 0.8542\n",
      "Epoch 14/50\n",
      "12/12 [==============================] - 25s 2s/step - loss: 0.4429 - acc: 0.8436 - val_loss: 0.6955 - val_acc: 0.8646\n",
      "Epoch 15/50\n",
      "12/12 [==============================] - 25s 2s/step - loss: 0.8651 - acc: 0.7896 - val_loss: 0.7130 - val_acc: 0.8438\n",
      "Epoch 16/50\n",
      "12/12 [==============================] - 26s 2s/step - loss: 0.4667 - acc: 0.8490 - val_loss: 0.4297 - val_acc: 0.8646\n",
      "Epoch 17/50\n",
      "12/12 [==============================] - 26s 2s/step - loss: 0.6176 - acc: 0.7864 - val_loss: 0.6573 - val_acc: 0.8646\n",
      "Epoch 18/50\n",
      "12/12 [==============================] - 26s 2s/step - loss: 0.5602 - acc: 0.8511 - val_loss: 0.4648 - val_acc: 0.8333\n",
      "Epoch 19/50\n",
      "12/12 [==============================] - 25s 2s/step - loss: 0.4857 - acc: 0.8264 - val_loss: 0.5228 - val_acc: 0.8646\n",
      "Epoch 20/50\n",
      "12/12 [==============================] - 25s 2s/step - loss: 0.6664 - acc: 0.8485 - val_loss: 0.6075 - val_acc: 0.8125\n",
      "Epoch 21/50\n",
      "12/12 [==============================] - 25s 2s/step - loss: 1.0877 - acc: 0.8177 - val_loss: 1.1501 - val_acc: 0.7396\n",
      "Epoch 22/50\n",
      "12/12 [==============================] - 27s 2s/step - loss: 0.3673 - acc: 0.8883 - val_loss: 0.6338 - val_acc: 0.8542\n",
      "Epoch 23/50\n",
      "12/12 [==============================] - 25s 2s/step - loss: 0.9304 - acc: 0.7857 - val_loss: 1.0072 - val_acc: 0.8021\n",
      "Epoch 24/50\n",
      "12/12 [==============================] - 23s 2s/step - loss: 0.7946 - acc: 0.8177 - val_loss: 0.5868 - val_acc: 0.8438\n",
      "Epoch 25/50\n",
      "12/12 [==============================] - 27s 2s/step - loss: 0.3936 - acc: 0.8571 - val_loss: 0.5408 - val_acc: 0.8542\n",
      "Epoch 26/50\n",
      "12/12 [==============================] - 25s 2s/step - loss: 0.4076 - acc: 0.8511 - val_loss: 0.6458 - val_acc: 0.8438\n",
      "Epoch 27/50\n",
      "12/12 [==============================] - 25s 2s/step - loss: 1.1334 - acc: 0.8197 - val_loss: 1.5270 - val_acc: 0.7708\n",
      "Epoch 28/50\n",
      "12/12 [==============================] - 25s 2s/step - loss: 1.4406 - acc: 0.8047 - val_loss: 1.1187 - val_acc: 0.8229\n",
      "Epoch 29/50\n",
      "12/12 [==============================] - 24s 2s/step - loss: 1.3085 - acc: 0.7939 - val_loss: 0.6696 - val_acc: 0.8646\n",
      "Epoch 30/50\n",
      "12/12 [==============================] - 25s 2s/step - loss: 0.4625 - acc: 0.8519 - val_loss: 1.4409 - val_acc: 0.8021\n",
      "Epoch 31/50\n",
      "12/12 [==============================] - 27s 2s/step - loss: 0.5629 - acc: 0.8568 - val_loss: 0.7870 - val_acc: 0.8646\n",
      "Epoch 32/50\n",
      "12/12 [==============================] - 25s 2s/step - loss: 0.4114 - acc: 0.8719 - val_loss: 0.9723 - val_acc: 0.7812\n",
      "Epoch 33/50\n",
      "12/12 [==============================] - 28s 2s/step - loss: 0.4317 - acc: 0.8411 - val_loss: 0.4189 - val_acc: 0.9375\n",
      "Epoch 34/50\n",
      "12/12 [==============================] - 28s 2s/step - loss: 1.1945 - acc: 0.8434 - val_loss: 0.9554 - val_acc: 0.8646\n",
      "Epoch 35/50\n",
      "12/12 [==============================] - 26s 2s/step - loss: 0.4511 - acc: 0.8774 - val_loss: 0.6401 - val_acc: 0.8750\n",
      "Epoch 36/50\n",
      "12/12 [==============================] - 25s 2s/step - loss: 0.5176 - acc: 0.8388 - val_loss: 8.9278 - val_acc: 0.4271\n",
      "Epoch 37/50\n",
      "12/12 [==============================] - 24s 2s/step - loss: 2.5228 - acc: 0.7526 - val_loss: 1.2456 - val_acc: 0.8646\n",
      "Epoch 38/50\n",
      "12/12 [==============================] - 25s 2s/step - loss: 0.3026 - acc: 0.9299 - val_loss: 0.8202 - val_acc: 0.8958\n",
      "Epoch 39/50\n",
      "12/12 [==============================] - 26s 2s/step - loss: 0.3605 - acc: 0.9061 - val_loss: 1.6295 - val_acc: 0.8333\n",
      "Epoch 40/50\n",
      "12/12 [==============================] - 27s 2s/step - loss: 1.3839 - acc: 0.8251 - val_loss: 1.0789 - val_acc: 0.8854\n",
      "Epoch 41/50\n",
      "12/12 [==============================] - 25s 2s/step - loss: 0.7514 - acc: 0.8487 - val_loss: 0.9405 - val_acc: 0.8750\n",
      "Epoch 42/50\n",
      "12/12 [==============================] - 26s 2s/step - loss: 0.4718 - acc: 0.8854 - val_loss: 0.7696 - val_acc: 0.8750\n",
      "Epoch 43/50\n",
      "12/12 [==============================] - 25s 2s/step - loss: 0.9779 - acc: 0.8715 - val_loss: 8.2611 - val_acc: 0.4688\n",
      "Epoch 44/50\n",
      "12/12 [==============================] - 27s 2s/step - loss: 1.2187 - acc: 0.8408 - val_loss: 1.1740 - val_acc: 0.8438\n",
      "Epoch 45/50\n",
      "12/12 [==============================] - 26s 2s/step - loss: 0.8515 - acc: 0.8828 - val_loss: 2.7831 - val_acc: 0.7500\n",
      "Epoch 46/50\n",
      "12/12 [==============================] - 24s 2s/step - loss: 1.5792 - acc: 0.8121 - val_loss: 1.0229 - val_acc: 0.8854\n",
      "Epoch 47/50\n",
      "12/12 [==============================] - 25s 2s/step - loss: 0.4105 - acc: 0.9164 - val_loss: 1.6948 - val_acc: 0.8542\n",
      "Epoch 48/50\n",
      "12/12 [==============================] - 25s 2s/step - loss: 0.7552 - acc: 0.8621 - val_loss: 1.3396 - val_acc: 0.8333\n",
      "Epoch 49/50\n",
      "12/12 [==============================] - 29s 2s/step - loss: 1.7067 - acc: 0.8073 - val_loss: 1.7971 - val_acc: 0.8333\n",
      "Epoch 50/50\n",
      "12/12 [==============================] - 27s 2s/step - loss: 1.0322 - acc: 0.8439 - val_loss: 1.0827 - val_acc: 0.8750\n"
     ]
    }
   ],
   "source": [
    "model=build_model(input_shape=(IMG_W,IMG_H,IMG_CH)) # 输入的图片维度\n",
    "# 模型的训练\n",
    "history_ft = model.fit_generator(train_generator, # 数据流\n",
    "                        steps_per_epoch=train_samples_num // batch_size, \n",
    "                        epochs=epochs,\n",
    "                        validation_data=val_generator,\n",
    "                        validation_steps=val_samples_num // batch_size)"
   ]
  },
  {
   "cell_type": "code",
   "execution_count": 7,
   "metadata": {},
   "outputs": [],
   "source": [
    "# 画图，将训练时的acc和loss都绘制到图上\n",
    "import matplotlib.pyplot as plt\n",
    "%matplotlib inline\n",
    "def plot_training(history):\n",
    "    plt.figure(12)\n",
    "    \n",
    "    plt.subplot(121)\n",
    "    train_acc = history.history['acc']\n",
    "    val_acc = history.history['val_acc']\n",
    "    epochs = range(len(train_acc))\n",
    "    plt.plot(epochs, train_acc, 'b',label='train_acc')\n",
    "    plt.plot(epochs, val_acc, 'r',label='test_acc')\n",
    "    plt.title('Train and Test accuracy')\n",
    "    plt.legend()\n",
    "    \n",
    "    plt.subplot(122)\n",
    "    train_loss = history.history['loss']\n",
    "    val_loss = history.history['val_loss']\n",
    "    epochs = range(len(train_loss))\n",
    "    plt.plot(epochs, train_loss, 'b',label='train_loss')\n",
    "    plt.plot(epochs, val_loss, 'r',label='test_loss')\n",
    "    plt.title('Train and Test loss')\n",
    "    plt.legend()\n",
    " \n",
    "    plt.show()"
   ]
  },
  {
   "cell_type": "code",
   "execution_count": 8,
   "metadata": {},
   "outputs": [
    {
     "data": {
      "image/png": "[encoded data removed]",
      "text/plain": [
       "<Figure size 432x288 with 2 Axes>"
      ]
     },
     "metadata": {},
     "output_type": "display_data"
    }
   ],
   "source": [
    "plot_training(history_ft)"
   ]
  },
  {
   "cell_type": "code",
   "execution_count": null,
   "metadata": {},
   "outputs": [],
   "source": []
  }
 ],
 "metadata": {
  "kernelspec": {
   "display_name": "Python 3",
   "language": "python",
   "name": "python3"
  },
  "language_info": {
   "codemirror_mode": {
    "name": "ipython",
    "version": 3
   },
   "file_extension": ".py",
   "mimetype": "text/x-python",
   "name": "python",
   "nbconvert_exporter": "python",
   "pygments_lexer": "ipython3",
   "version": "3.6.6"
  }
 },
 "nbformat": 4,
 "nbformat_minor": 2
}
