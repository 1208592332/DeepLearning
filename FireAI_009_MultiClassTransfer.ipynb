{
 "cells": [
  {
   "cell_type": "code",
   "execution_count": 8,
   "metadata": {},
   "outputs": [],
   "source": [
    "import numpy as np\n",
    "import os,random,shutil\n",
    "np.random.seed(7)"
   ]
  },
  {
   "cell_type": "code",
   "execution_count": 9,
   "metadata": {},
   "outputs": [],
   "source": [
    "# 为Keras模型准备数据集\n",
    "#1，指定一些超参数：\n",
    "FOLDER='E:\\PyProjects\\DataSet\\Small_set_5_Class'\n",
    "train_data_dir=os.path.join(FOLDER,'train')\n",
    "val_data_dir=os.path.join(FOLDER,'test')\n",
    "train_samples_num=400 # train set中全部照片数\n",
    "val_samples_num=100\n",
    "IMG_W,IMG_H,IMG_CH=150,150,3 # 单张图片的大小\n",
    "batch_size=50 # 这儿要保证400和100能除断\n",
    "epochs=50  # 用比较少的epochs数目做演示，节约训练时间\n",
    "class_num=5 # 此处有5个类别\n",
    "\n",
    "save_folder='E:\\PyProjects\\/DataSet\\/FireAI\\/DeepLearning\\/FireAI009' # bottleneck特征保存位置"
   ]
  },
  {
   "cell_type": "code",
   "execution_count": 10,
   "metadata": {},
   "outputs": [],
   "source": [
    "# 此处的训练集和测试集并不是原始图片的train set和test set，而是用VGG16对图片提取的特征，这些特征组成新的train set和test set\n",
    "from keras.preprocessing.image import ImageDataGenerator\n",
    "from keras.models import Sequential\n",
    "from keras.layers import Dropout, Flatten, Dense\n",
    "from keras import applications\n",
    "def save_bottlebeck_features():\n",
    "    datagen = ImageDataGenerator(rescale=1. / 255) # 不需图片增强\n",
    "\n",
    "    # build the VGG16 network\n",
    "    model = applications.VGG16(include_top=False, weights='imagenet') \n",
    "    # 使用imagenet的weights作为VGG16的初始weights,由于只是特征提取，故而只取前面的卷积层而不需要DenseLayer，故而include_top=False\n",
    "\n",
    "    generator = datagen.flow_from_directory( # 产生train set\n",
    "        train_data_dir,\n",
    "        target_size=(IMG_W, IMG_H),\n",
    "        batch_size=batch_size,\n",
    "        class_mode='categorical', # 这个地方要修改，要不然出错\n",
    "        shuffle=False) # 必须为False，否则顺序打乱之后，和后面的label对应不上。\n",
    "    bottleneck_features_train = model.predict_generator(\n",
    "        generator, train_samples_num // batch_size) \n",
    "    np.save(os.path.join(save_folder,'bottleneck_features_train.npy'), bottleneck_features_train)\n",
    "    print('bottleneck features of train set is saved.')\n",
    "\n",
    "    generator = datagen.flow_from_directory(\n",
    "        val_data_dir,\n",
    "        target_size=(IMG_W, IMG_H),\n",
    "        batch_size=batch_size,\n",
    "        class_mode='categorical',\n",
    "        shuffle=False)\n",
    "    bottleneck_features_validation = model.predict_generator(\n",
    "        generator, val_samples_num // batch_size)\n",
    "    np.save(os.path.join(save_folder,'bottleneck_features_val.npy'),bottleneck_features_validation)\n",
    "    print('bottleneck features of test set is saved.')"
   ]
  },
  {
   "cell_type": "code",
   "execution_count": 11,
   "metadata": {},
   "outputs": [
    {
     "name": "stdout",
     "output_type": "stream",
     "text": [
      "Found 400 images belonging to 5 classes.\n",
      "bottleneck features of train set is saved.\n",
      "Found 100 images belonging to 5 classes.\n",
      "bottleneck features of test set is saved.\n"
     ]
    }
   ],
   "source": [
    "save_bottlebeck_features()"
   ]
  },
  {
   "cell_type": "code",
   "execution_count": 12,
   "metadata": {},
   "outputs": [],
   "source": [
    "def my_model():\n",
    "    '''\n",
    "    自定义一个模型，该模型仅仅相当于一个分类器，只包含有全连接层，对提取的特征进行分类即可\n",
    "    :return:\n",
    "    '''\n",
    "    # 模型的结构\n",
    "    model = Sequential()\n",
    "    model.add(Flatten(input_shape=train_data.shape[1:])) # 将所有data进行flatten\n",
    "    model.add(Dense(256, activation='relu')) # 256个全连接单元\n",
    "    model.add(Dropout(0.5)) # dropout正则\n",
    "    model.add(Dense(class_num, activation='softmax')) # 与二分类不同之处：要用Dense(class_num)和softmax\n",
    "\n",
    "    # 模型的配置\n",
    "    model.compile(optimizer='rmsprop',\n",
    "                  loss='categorical_crossentropy',\n",
    "                  metrics=['accuracy']) # model的optimizer等\n",
    "\n",
    "    return model"
   ]
  },
  {
   "cell_type": "code",
   "execution_count": 16,
   "metadata": {},
   "outputs": [
    {
     "name": "stdout",
     "output_type": "stream",
     "text": [
      "Train on 400 samples, validate on 100 samples\n",
      "Epoch 1/50\n",
      "400/400 [==============================] - 1s 2ms/step - loss: 4.8496 - acc: 0.4725 - val_loss: 3.4864 - val_acc: 0.6900\n",
      "Epoch 2/50\n",
      "400/400 [==============================] - 0s 878us/step - loss: 3.4436 - acc: 0.7400 - val_loss: 3.3577 - val_acc: 0.7400\n",
      "Epoch 3/50\n",
      "400/400 [==============================] - 0s 845us/step - loss: 0.6014 - acc: 0.9300 - val_loss: 0.1798 - val_acc: 0.9600\n",
      "Epoch 4/50\n",
      "400/400 [==============================] - 0s 865us/step - loss: 0.0475 - acc: 0.9900 - val_loss: 0.1656 - val_acc: 0.9500\n",
      "Epoch 5/50\n",
      "400/400 [==============================] - 0s 850us/step - loss: 0.0384 - acc: 0.9825 - val_loss: 0.7421 - val_acc: 0.8400\n",
      "Epoch 6/50\n",
      "400/400 [==============================] - 0s 985us/step - loss: 0.0277 - acc: 0.9900 - val_loss: 0.1592 - val_acc: 0.9500\n",
      "Epoch 7/50\n",
      "400/400 [==============================] - 0s 868us/step - loss: 0.0055 - acc: 1.0000 - val_loss: 0.2057 - val_acc: 0.9500\n",
      "Epoch 8/50\n",
      "400/400 [==============================] - 0s 860us/step - loss: 0.0899 - acc: 0.9725 - val_loss: 1.7375 - val_acc: 0.8000\n",
      "Epoch 9/50\n",
      "400/400 [==============================] - 0s 858us/step - loss: 0.1618 - acc: 0.9700 - val_loss: 0.1664 - val_acc: 0.9500\n",
      "Epoch 10/50\n",
      "400/400 [==============================] - 0s 870us/step - loss: 0.0040 - acc: 1.0000 - val_loss: 0.1750 - val_acc: 0.9500\n",
      "Epoch 11/50\n",
      "400/400 [==============================] - 0s 860us/step - loss: 0.0023 - acc: 1.0000 - val_loss: 0.1830 - val_acc: 0.9500\n",
      "Epoch 12/50\n",
      "400/400 [==============================] - 0s 860us/step - loss: 0.0015 - acc: 1.0000 - val_loss: 0.1800 - val_acc: 0.9500\n",
      "Epoch 13/50\n",
      "400/400 [==============================] - 0s 868us/step - loss: 0.1326 - acc: 0.9700 - val_loss: 1.8995 - val_acc: 0.7700\n",
      "Epoch 14/50\n",
      "400/400 [==============================] - 0s 858us/step - loss: 0.1799 - acc: 0.9625 - val_loss: 0.2347 - val_acc: 0.9500\n",
      "Epoch 15/50\n",
      "400/400 [==============================] - 0s 878us/step - loss: 9.9769e-04 - acc: 1.0000 - val_loss: 0.2378 - val_acc: 0.9500\n",
      "Epoch 16/50\n",
      "400/400 [==============================] - 0s 880us/step - loss: 5.2125e-04 - acc: 1.0000 - val_loss: 0.2311 - val_acc: 0.9500\n",
      "Epoch 17/50\n",
      "400/400 [==============================] - 0s 873us/step - loss: 8.6575e-04 - acc: 1.0000 - val_loss: 0.2238 - val_acc: 0.9500\n",
      "Epoch 18/50\n",
      "400/400 [==============================] - 0s 870us/step - loss: 7.4481e-04 - acc: 1.0000 - val_loss: 0.2198 - val_acc: 0.9500\n",
      "Epoch 19/50\n",
      "400/400 [==============================] - 0s 873us/step - loss: 3.9374e-04 - acc: 1.0000 - val_loss: 0.2264 - val_acc: 0.9500\n",
      "Epoch 20/50\n",
      "400/400 [==============================] - 0s 883us/step - loss: 4.1364e-04 - acc: 1.0000 - val_loss: 0.2171 - val_acc: 0.9500\n",
      "Epoch 21/50\n",
      "400/400 [==============================] - 0s 998us/step - loss: 8.5401e-04 - acc: 1.0000 - val_loss: 0.2197 - val_acc: 0.9500\n",
      "Epoch 22/50\n",
      "400/400 [==============================] - 0s 993us/step - loss: 1.1582e-04 - acc: 1.0000 - val_loss: 0.2295 - val_acc: 0.9500\n",
      "Epoch 23/50\n",
      "400/400 [==============================] - 0s 883us/step - loss: 0.1329 - acc: 0.9600 - val_loss: 0.2188 - val_acc: 0.9700\n",
      "Epoch 24/50\n",
      "400/400 [==============================] - 0s 858us/step - loss: 0.0068 - acc: 0.9975 - val_loss: 0.2307 - val_acc: 0.9700\n",
      "Epoch 25/50\n",
      "400/400 [==============================] - 0s 868us/step - loss: 8.6239e-04 - acc: 1.0000 - val_loss: 0.2342 - val_acc: 0.9500\n",
      "Epoch 26/50\n",
      "400/400 [==============================] - 0s 865us/step - loss: 1.1607e-05 - acc: 1.0000 - val_loss: 0.2344 - val_acc: 0.9500\n",
      "Epoch 27/50\n",
      "400/400 [==============================] - 0s 873us/step - loss: 5.3311e-05 - acc: 1.0000 - val_loss: 0.2351 - val_acc: 0.9500\n",
      "Epoch 28/50\n",
      "400/400 [==============================] - 0s 950us/step - loss: 7.4385e-04 - acc: 1.0000 - val_loss: 0.2547 - val_acc: 0.9700\n",
      "Epoch 29/50\n",
      "400/400 [==============================] - 0s 898us/step - loss: 5.4692e-05 - acc: 1.0000 - val_loss: 0.2426 - val_acc: 0.9700\n",
      "Epoch 30/50\n",
      "400/400 [==============================] - 0s 868us/step - loss: 0.0016 - acc: 1.0000 - val_loss: 0.3069 - val_acc: 0.9600\n",
      "Epoch 31/50\n",
      "400/400 [==============================] - 0s 865us/step - loss: 0.0012 - acc: 1.0000 - val_loss: 0.2546 - val_acc: 0.9500\n",
      "Epoch 32/50\n",
      "400/400 [==============================] - 0s 870us/step - loss: 0.0022 - acc: 1.0000 - val_loss: 0.2563 - val_acc: 0.9500\n",
      "Epoch 33/50\n",
      "400/400 [==============================] - 0s 858us/step - loss: 0.0964 - acc: 0.9725 - val_loss: 0.2621 - val_acc: 0.9700\n",
      "Epoch 34/50\n",
      "400/400 [==============================] - 0s 965us/step - loss: 1.4947e-04 - acc: 1.0000 - val_loss: 0.2610 - val_acc: 0.9700\n",
      "Epoch 35/50\n",
      "400/400 [==============================] - 0s 868us/step - loss: 0.0016 - acc: 1.0000 - val_loss: 0.2719 - val_acc: 0.9500\n",
      "Epoch 36/50\n",
      "400/400 [==============================] - 0s 855us/step - loss: 2.3221e-05 - acc: 1.0000 - val_loss: 0.2716 - val_acc: 0.9500\n",
      "Epoch 37/50\n",
      "400/400 [==============================] - 0s 858us/step - loss: 0.0089 - acc: 0.9975 - val_loss: 0.2859 - val_acc: 0.9700\n",
      "Epoch 38/50\n",
      "400/400 [==============================] - 0s 875us/step - loss: 2.4090e-04 - acc: 1.0000 - val_loss: 0.2715 - val_acc: 0.9500\n",
      "Epoch 39/50\n",
      "400/400 [==============================] - 0s 865us/step - loss: 1.1602e-04 - acc: 1.0000 - val_loss: 0.2783 - val_acc: 0.9500\n",
      "Epoch 40/50\n",
      "400/400 [==============================] - 0s 863us/step - loss: 2.5742e-05 - acc: 1.0000 - val_loss: 0.2841 - val_acc: 0.9500\n",
      "Epoch 41/50\n",
      "400/400 [==============================] - 0s 868us/step - loss: 1.1411e-05 - acc: 1.0000 - val_loss: 0.2801 - val_acc: 0.9500\n",
      "Epoch 42/50\n",
      "400/400 [==============================] - 0s 963us/step - loss: 7.1294e-05 - acc: 1.0000 - val_loss: 0.2621 - val_acc: 0.9700\n",
      "Epoch 43/50\n",
      "400/400 [==============================] - 0s 853us/step - loss: 1.5010e-05 - acc: 1.0000 - val_loss: 0.2753 - val_acc: 0.9700\n",
      "Epoch 44/50\n",
      "400/400 [==============================] - 0s 860us/step - loss: 3.9362e-06 - acc: 1.0000 - val_loss: 0.2720 - val_acc: 0.9600\n",
      "Epoch 45/50\n",
      "400/400 [==============================] - 0s 865us/step - loss: 3.6688e-05 - acc: 1.0000 - val_loss: 0.3077 - val_acc: 0.9600\n",
      "Epoch 46/50\n",
      "400/400 [==============================] - 0s 855us/step - loss: 7.1249e-06 - acc: 1.0000 - val_loss: 0.3070 - val_acc: 0.9600\n",
      "Epoch 47/50\n",
      "400/400 [==============================] - 0s 950us/step - loss: 2.7769e-06 - acc: 1.0000 - val_loss: 0.3105 - val_acc: 0.9700\n",
      "Epoch 48/50\n",
      "400/400 [==============================] - 0s 860us/step - loss: 5.4962e-06 - acc: 1.0000 - val_loss: 0.3184 - val_acc: 0.9500\n",
      "Epoch 49/50\n",
      "400/400 [==============================] - 0s 853us/step - loss: 0.0438 - acc: 0.9850 - val_loss: 0.2470 - val_acc: 0.9600\n",
      "Epoch 50/50\n",
      "400/400 [==============================] - 0s 855us/step - loss: 5.5508e-04 - acc: 1.0000 - val_loss: 0.2798 - val_acc: 0.9700\n"
     ]
    }
   ],
   "source": [
    "from keras.utils import to_categorical\n",
    "# 只需要训练分类器模型即可，不需要训练特征提取器\n",
    "train_data = np.load(os.path.join(save_folder,'bottleneck_features_train.npy')) # 加载训练图片集的所有图片的VGG16-notop特征\n",
    "train_labels = np.array([0] * 80 + [1] * 80+ [2]*80+[3]*80+[4]*80)\n",
    "# label是每个类别80张图片，共5个类别\n",
    "# 设置标签，并规范成Keras默认格式\n",
    "train_labels = to_categorical(train_labels, class_num)\n",
    "\n",
    "validation_data = np.load(os.path.join(save_folder,'bottleneck_features_val.npy'))\n",
    "validation_labels = np.array([0] * 20 + [1] * 20+ [2]*20+[3]*20+[4]*20)\n",
    "validation_labels = to_categorical(validation_labels, class_num)\n",
    "\n",
    "# 构建分类器模型\n",
    "clf_model=my_model()\n",
    "history_ft = clf_model.fit(train_data, train_labels,\n",
    "              epochs=epochs,\n",
    "              batch_size=batch_size,\n",
    "              validation_data=(validation_data, validation_labels))"
   ]
  },
  {
   "cell_type": "code",
   "execution_count": 17,
   "metadata": {},
   "outputs": [],
   "source": [
    "# 画图，将训练时的acc和loss都绘制到图上\n",
    "import matplotlib.pyplot as plt\n",
    "%matplotlib inline\n",
    "def plot_training(history):\n",
    "    plt.figure(12)\n",
    "    \n",
    "    plt.subplot(121)\n",
    "    train_acc = history.history['acc']\n",
    "    val_acc = history.history['val_acc']\n",
    "    epochs = range(len(train_acc))\n",
    "    plt.plot(epochs, train_acc, 'b',label='train_acc')\n",
    "    plt.plot(epochs, val_acc, 'r',label='test_acc')\n",
    "    plt.title('Train and Test accuracy')\n",
    "    plt.legend()\n",
    "    \n",
    "    plt.subplot(122)\n",
    "    train_loss = history.history['loss']\n",
    "    val_loss = history.history['val_loss']\n",
    "    epochs = range(len(train_loss))\n",
    "    plt.plot(epochs, train_loss, 'b',label='train_loss')\n",
    "    plt.plot(epochs, val_loss, 'r',label='test_loss')\n",
    "    plt.title('Train and Test loss')\n",
    "    plt.legend()\n",
    " \n",
    "    plt.show()"
   ]
  },
  {
   "cell_type": "code",
   "execution_count": 18,
   "metadata": {},
   "outputs": [
    {
     "data": {
      "image/png": "[encoded data removed]",
      "text/plain": [
       "<Figure size 432x288 with 2 Axes>"
      ]
     },
     "metadata": {},
     "output_type": "display_data"
    }
   ],
   "source": [
    "plot_training(history_ft)"
   ]
  },
  {
   "cell_type": "code",
   "execution_count": 20,
   "metadata": {},
   "outputs": [],
   "source": [
    "clf_model.save_weights(os.path.join(save_folder,'top_FC_model'))"
   ]
  },
  {
   "cell_type": "code",
   "execution_count": null,
   "metadata": {},
   "outputs": [],
   "source": []
  }
 ],
 "metadata": {
  "kernelspec": {
   "display_name": "Python 3",
   "language": "python",
   "name": "python3"
  },
  "language_info": {
   "codemirror_mode": {
    "name": "ipython",
    "version": 3
   },
   "file_extension": ".py",
   "mimetype": "text/x-python",
   "name": "python",
   "nbconvert_exporter": "python",
   "pygments_lexer": "ipython3",
   "version": "3.6.6"
  }
 },
 "nbformat": 4,
 "nbformat_minor": 2
}
