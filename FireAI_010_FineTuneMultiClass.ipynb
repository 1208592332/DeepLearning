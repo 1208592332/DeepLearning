{
 "cells": [
  {
   "cell_type": "code",
   "execution_count": 1,
   "metadata": {},
   "outputs": [],
   "source": [
    "import numpy as np\n",
    "import os,random,shutil\n",
    "np.random.seed(7)"
   ]
  },
  {
   "cell_type": "code",
   "execution_count": 2,
   "metadata": {},
   "outputs": [],
   "source": [
    "# 为Keras模型准备数据集\n",
    "#1，指定一些超参数：\n",
    "FOLDER='E:\\PyProjects\\DataSet\\Small_set_5_Class'\n",
    "train_data_dir=os.path.join(FOLDER,'train')\n",
    "val_data_dir=os.path.join(FOLDER,'test')\n",
    "train_samples_num=400 # train set中全部照片数\n",
    "val_samples_num=100\n",
    "IMG_W,IMG_H,IMG_CH=150,150,3 # 单张图片的大小\n",
    "batch_size=50 # 这儿要保证400和100能除断\n",
    "epochs=50  # 用比较少的epochs数目做演示，节约训练时间\n",
    "class_num=5 # 此处有5个类别\n",
    "\n",
    "save_folder='E:\\PyProjects\\/DataSet\\/FireAI\\/DeepLearning\\/FireAI009' # bottleneck特征保存位置"
   ]
  },
  {
   "cell_type": "code",
   "execution_count": 3,
   "metadata": {},
   "outputs": [
    {
     "name": "stderr",
     "output_type": "stream",
     "text": [
      "Using TensorFlow backend.\n"
     ]
    },
    {
     "name": "stdout",
     "output_type": "stream",
     "text": [
      "Found 400 images belonging to 5 classes.\n"
     ]
    }
   ],
   "source": [
    "# 2，准备训练集，keras有很多Generator可以直接处理图片的加载，增强等操作，封装的非常好\n",
    "from keras.preprocessing.image import ImageDataGenerator\n",
    "train_datagen = ImageDataGenerator( # 单张图片的处理方式，train时一般都会进行图片增强\n",
    "        rescale=1. / 255, # 图片像素值为0-255，此处都乘以1/255，调整到0-1之间\n",
    "        shear_range=0.2, # 斜切\n",
    "        zoom_range=0.2, # 放大缩小范围\n",
    "        horizontal_flip=True) # 水平翻转\n",
    "\n",
    "train_generator = train_datagen.flow_from_directory(# 从文件夹中产生数据流\n",
    "    train_data_dir, # 训练集图片的文件夹\n",
    "    target_size=(IMG_W, IMG_H), # 调整后每张图片的大小\n",
    "    batch_size=batch_size,\n",
    "    class_mode='categorical') # 此处是多分类问题，故而mode是categorical\n"
   ]
  },
  {
   "cell_type": "code",
   "execution_count": 4,
   "metadata": {},
   "outputs": [
    {
     "name": "stdout",
     "output_type": "stream",
     "text": [
      "Found 100 images belonging to 5 classes.\n"
     ]
    }
   ],
   "source": [
    "# 3，同样的方式准备测试集\n",
    "val_datagen = ImageDataGenerator(rescale=1. / 255) # 只需要和trainset同样的scale即可，不需增强\n",
    "val_generator = val_datagen.flow_from_directory(\n",
    "        val_data_dir,\n",
    "        target_size=(IMG_W, IMG_H),\n",
    "        batch_size=batch_size,\n",
    "        class_mode='categorical')"
   ]
  },
  {
   "cell_type": "code",
   "execution_count": 5,
   "metadata": {},
   "outputs": [],
   "source": [
    "# 4，构建模型\n",
    "from keras.preprocessing.image import ImageDataGenerator\n",
    "from keras.models import Sequential\n",
    "from keras.layers import Dropout, Flatten, Dense\n",
    "from keras import applications\n",
    "from keras import optimizers\n",
    "from keras.models import Model\n",
    "def build_model():\n",
    "    base_model = applications.VGG16(weights='imagenet', include_top=False,input_shape=(IMG_W, IMG_H,IMG_CH))\n",
    "    # 此处我们只需要卷积层不需要全连接层，故而inclue_top=False,一定要设置input_shape，否则后面会报错\n",
    "    # 这一步使用applications模块自带的VGG16函数直接加载了模型和参数，作为我们自己模型的“身子”\n",
    "    \n",
    "    # 下面定义我们自己的分类器，作为我们自己模型的“头”\n",
    "    top_model = Sequential()\n",
    "    top_model.add(Flatten(input_shape=base_model.output_shape[1:])) \n",
    "    top_model.add(Dense(256, activation='relu'))\n",
    "    top_model.add(Dropout(0.5))\n",
    "    top_model.add(Dense(class_num, activation='softmax')) # 多分类问题\n",
    "    \n",
    "    top_model.load_weights(os.path.join(save_folder,'top_FC_model')) \n",
    "    # 上面定义了模型结构，此处要把训练好的参数加载进来，\n",
    "    \n",
    "    my_model = Model(inputs=base_model.input, outputs=top_model(base_model.output)) # 将“身子”和“头”组装到一起\n",
    "    # my_model就是我们组装好的完整的模型，也已经加载了各自的weights\n",
    "    \n",
    "    # 普通的模型需要对所有层的weights进行训练调整，但是此处我们只调整VGG16的后面几个卷积层，所以前面的卷积层要冻结起来\n",
    "    for layer in my_model.layers[:15]: # 15层之前都是不需训练的\n",
    "        layer.trainable = False\n",
    "        \n",
    "    # 模型的配置\n",
    "    my_model.compile(loss='categorical_crossentropy',\n",
    "                  optimizer=optimizers.SGD(lr=1e-4, momentum=0.9), # 使用一个非常小的lr来微调\n",
    "                  metrics=['accuracy'])\n",
    "    return my_model"
   ]
  },
  {
   "cell_type": "code",
   "execution_count": 6,
   "metadata": {},
   "outputs": [
    {
     "name": "stdout",
     "output_type": "stream",
     "text": [
      "start to fine-tune my model\n",
      "Epoch 1/50\n",
      "8/8 [==============================] - 124s 16s/step - loss: 0.0170 - acc: 0.9950 - val_loss: 0.2767 - val_acc: 0.9700\n",
      "Epoch 2/50\n",
      "8/8 [==============================] - 131s 16s/step - loss: 3.2684e-04 - acc: 1.0000 - val_loss: 0.2694 - val_acc: 0.9700\n",
      "Epoch 3/50\n",
      "8/8 [==============================] - 131s 16s/step - loss: 0.0175 - acc: 0.9950 - val_loss: 0.2593 - val_acc: 0.9700\n",
      "Epoch 4/50\n",
      "8/8 [==============================] - 131s 16s/step - loss: 0.0044 - acc: 0.9975 - val_loss: 0.2533 - val_acc: 0.9600\n",
      "Epoch 5/50\n",
      "8/8 [==============================] - 132s 17s/step - loss: 0.0079 - acc: 0.9975 - val_loss: 0.2558 - val_acc: 0.9600\n",
      "Epoch 6/50\n",
      "8/8 [==============================] - 145s 18s/step - loss: 0.0349 - acc: 0.9925 - val_loss: 0.2548 - val_acc: 0.9600\n",
      "Epoch 7/50\n",
      "8/8 [==============================] - 135s 17s/step - loss: 0.0013 - acc: 1.0000 - val_loss: 0.2620 - val_acc: 0.9500\n",
      "Epoch 8/50\n",
      "8/8 [==============================] - 136s 17s/step - loss: 0.0084 - acc: 0.9950 - val_loss: 0.2538 - val_acc: 0.9600\n",
      "Epoch 9/50\n",
      "8/8 [==============================] - 132s 17s/step - loss: 5.6198e-04 - acc: 1.0000 - val_loss: 0.2527 - val_acc: 0.9600\n",
      "Epoch 10/50\n",
      "8/8 [==============================] - 132s 16s/step - loss: 0.0135 - acc: 0.9925 - val_loss: 0.2629 - val_acc: 0.9700\n",
      "Epoch 11/50\n",
      "8/8 [==============================] - 132s 16s/step - loss: 0.0090 - acc: 0.9950 - val_loss: 0.2585 - val_acc: 0.9600\n",
      "Epoch 12/50\n",
      "8/8 [==============================] - 130s 16s/step - loss: 0.0030 - acc: 0.9975 - val_loss: 0.2623 - val_acc: 0.9500\n",
      "Epoch 13/50\n",
      "8/8 [==============================] - 129s 16s/step - loss: 0.0086 - acc: 0.9950 - val_loss: 0.2583 - val_acc: 0.9600\n",
      "Epoch 14/50\n",
      "8/8 [==============================] - 131s 16s/step - loss: 0.0254 - acc: 0.9975 - val_loss: 0.2587 - val_acc: 0.9600\n",
      "Epoch 15/50\n",
      "8/8 [==============================] - 133s 17s/step - loss: 0.0020 - acc: 0.9975 - val_loss: 0.2675 - val_acc: 0.9700\n",
      "Epoch 16/50\n",
      "8/8 [==============================] - 134s 17s/step - loss: 0.0030 - acc: 0.9975 - val_loss: 0.2710 - val_acc: 0.9700\n",
      "Epoch 17/50\n",
      "8/8 [==============================] - 133s 17s/step - loss: 0.0160 - acc: 0.9975 - val_loss: 0.2604 - val_acc: 0.9600\n",
      "Epoch 18/50\n",
      "8/8 [==============================] - 133s 17s/step - loss: 0.0153 - acc: 0.9950 - val_loss: 0.2517 - val_acc: 0.9700\n",
      "Epoch 19/50\n",
      "8/8 [==============================] - 135s 17s/step - loss: 0.0022 - acc: 1.0000 - val_loss: 0.2560 - val_acc: 0.9700\n",
      "Epoch 20/50\n",
      "8/8 [==============================] - 133s 17s/step - loss: 0.0055 - acc: 0.9975 - val_loss: 0.2473 - val_acc: 0.9700\n",
      "Epoch 21/50\n",
      "8/8 [==============================] - 131s 16s/step - loss: 6.7693e-04 - acc: 1.0000 - val_loss: 0.2410 - val_acc: 0.9700\n",
      "Epoch 22/50\n",
      "8/8 [==============================] - 131s 16s/step - loss: 0.0014 - acc: 1.0000 - val_loss: 0.2373 - val_acc: 0.9700\n",
      "Epoch 23/50\n",
      "8/8 [==============================] - 131s 16s/step - loss: 0.0029 - acc: 0.9975 - val_loss: 0.2374 - val_acc: 0.9700\n",
      "Epoch 24/50\n",
      "8/8 [==============================] - 131s 16s/step - loss: 0.0011 - acc: 1.0000 - val_loss: 0.2412 - val_acc: 0.9700\n",
      "Epoch 25/50\n",
      "8/8 [==============================] - 131s 16s/step - loss: 0.0014 - acc: 1.0000 - val_loss: 0.2462 - val_acc: 0.9700\n",
      "Epoch 26/50\n",
      "8/8 [==============================] - 131s 16s/step - loss: 4.1712e-04 - acc: 1.0000 - val_loss: 0.2484 - val_acc: 0.9700\n",
      "Epoch 27/50\n",
      "8/8 [==============================] - 131s 16s/step - loss: 0.0036 - acc: 0.9975 - val_loss: 0.2456 - val_acc: 0.9700\n",
      "Epoch 28/50\n",
      "8/8 [==============================] - 130s 16s/step - loss: 0.0048 - acc: 0.9975 - val_loss: 0.2404 - val_acc: 0.9600\n",
      "Epoch 29/50\n",
      "8/8 [==============================] - 130s 16s/step - loss: 4.6999e-04 - acc: 1.0000 - val_loss: 0.2418 - val_acc: 0.9600\n",
      "Epoch 30/50\n",
      "8/8 [==============================] - 130s 16s/step - loss: 0.0040 - acc: 1.0000 - val_loss: 0.2409 - val_acc: 0.9600\n",
      "Epoch 31/50\n",
      "8/8 [==============================] - 130s 16s/step - loss: 0.0028 - acc: 0.9975 - val_loss: 0.2391 - val_acc: 0.9600\n",
      "Epoch 32/50\n",
      "8/8 [==============================] - 132s 17s/step - loss: 2.7393e-04 - acc: 1.0000 - val_loss: 0.2393 - val_acc: 0.9700\n",
      "Epoch 33/50\n",
      "8/8 [==============================] - 135s 17s/step - loss: 0.0017 - acc: 1.0000 - val_loss: 0.2418 - val_acc: 0.9700\n",
      "Epoch 34/50\n",
      "8/8 [==============================] - 134s 17s/step - loss: 7.6793e-05 - acc: 1.0000 - val_loss: 0.2429 - val_acc: 0.9700\n",
      "Epoch 35/50\n",
      "8/8 [==============================] - 131s 16s/step - loss: 1.0348e-04 - acc: 1.0000 - val_loss: 0.2435 - val_acc: 0.9700\n",
      "Epoch 36/50\n",
      "8/8 [==============================] - 130s 16s/step - loss: 6.1680e-04 - acc: 1.0000 - val_loss: 0.2427 - val_acc: 0.9700\n",
      "Epoch 37/50\n",
      "8/8 [==============================] - 129s 16s/step - loss: 3.1148e-04 - acc: 1.0000 - val_loss: 0.2431 - val_acc: 0.9700\n",
      "Epoch 38/50\n",
      "8/8 [==============================] - 130s 16s/step - loss: 7.7474e-04 - acc: 1.0000 - val_loss: 0.2444 - val_acc: 0.9700\n",
      "Epoch 39/50\n",
      "8/8 [==============================] - 130s 16s/step - loss: 0.0015 - acc: 1.0000 - val_loss: 0.2410 - val_acc: 0.9700\n",
      "Epoch 40/50\n",
      "8/8 [==============================] - 130s 16s/step - loss: 4.4013e-04 - acc: 1.0000 - val_loss: 0.2363 - val_acc: 0.9700\n",
      "Epoch 41/50\n",
      "8/8 [==============================] - 130s 16s/step - loss: 0.0034 - acc: 0.9975 - val_loss: 0.2366 - val_acc: 0.9700\n",
      "Epoch 42/50\n",
      "8/8 [==============================] - 134s 17s/step - loss: 6.3670e-04 - acc: 1.0000 - val_loss: 0.2377 - val_acc: 0.9700\n",
      "Epoch 43/50\n",
      "8/8 [==============================] - 138s 17s/step - loss: 7.3957e-04 - acc: 1.0000 - val_loss: 0.2389 - val_acc: 0.9700\n",
      "Epoch 44/50\n",
      "8/8 [==============================] - 141s 18s/step - loss: 0.0015 - acc: 1.0000 - val_loss: 0.2376 - val_acc: 0.9700\n",
      "Epoch 45/50\n",
      "8/8 [==============================] - 134s 17s/step - loss: 0.0031 - acc: 0.9975 - val_loss: 0.2375 - val_acc: 0.9700\n",
      "Epoch 46/50\n",
      "8/8 [==============================] - 130s 16s/step - loss: 3.5567e-04 - acc: 1.0000 - val_loss: 0.2474 - val_acc: 0.9700\n",
      "Epoch 47/50\n",
      "8/8 [==============================] - 132s 16s/step - loss: 0.0045 - acc: 0.9975 - val_loss: 0.2563 - val_acc: 0.9700\n",
      "Epoch 48/50\n",
      "8/8 [==============================] - 132s 16s/step - loss: 0.0025 - acc: 1.0000 - val_loss: 0.2758 - val_acc: 0.9700\n",
      "Epoch 49/50\n",
      "8/8 [==============================] - 130s 16s/step - loss: 0.0080 - acc: 0.9950 - val_loss: 0.2922 - val_acc: 0.9700\n",
      "Epoch 50/50\n",
      "8/8 [==============================] - 131s 16s/step - loss: 4.7076e-04 - acc: 1.0000 - val_loss: 0.2875 - val_acc: 0.9700\n"
     ]
    }
   ],
   "source": [
    "# 开始用train set来微调模型的参数\n",
    "print('start to fine-tune my model')\n",
    "my_model=build_model()\n",
    "history_ft = my_model.fit_generator(\n",
    "        train_generator,\n",
    "        steps_per_epoch=train_samples_num // batch_size,\n",
    "        epochs=epochs,\n",
    "        validation_data=val_generator,\n",
    "        validation_steps=val_samples_num // batch_size)"
   ]
  },
  {
   "cell_type": "code",
   "execution_count": 7,
   "metadata": {},
   "outputs": [],
   "source": [
    "# 画图，将训练时的acc和loss都绘制到图上\n",
    "import matplotlib.pyplot as plt\n",
    "%matplotlib inline\n",
    "def plot_training(history):\n",
    "    plt.figure(12)\n",
    "    \n",
    "    plt.subplot(121)\n",
    "    train_acc = history.history['acc']\n",
    "    val_acc = history.history['val_acc']\n",
    "    epochs = range(len(train_acc))\n",
    "    plt.plot(epochs, train_acc, 'b',label='train_acc')\n",
    "    plt.plot(epochs, val_acc, 'r',label='test_acc')\n",
    "    plt.title('Train and Test accuracy')\n",
    "    plt.legend()\n",
    "    \n",
    "    plt.subplot(122)\n",
    "    train_loss = history.history['loss']\n",
    "    val_loss = history.history['val_loss']\n",
    "    epochs = range(len(train_loss))\n",
    "    plt.plot(epochs, train_loss, 'b',label='train_loss')\n",
    "    plt.plot(epochs, val_loss, 'r',label='test_loss')\n",
    "    plt.title('Train and Test loss')\n",
    "    plt.legend()\n",
    " \n",
    "    plt.show()"
   ]
  },
  {
   "cell_type": "code",
   "execution_count": 8,
   "metadata": {},
   "outputs": [
    {
     "data": {
      "image/png": "[encoded data removed]",
      "text/plain": [
       "<Figure size 432x288 with 2 Axes>"
      ]
     },
     "metadata": {},
     "output_type": "display_data"
    }
   ],
   "source": [
    "plot_training(history_ft)"
   ]
  },
  {
   "cell_type": "code",
   "execution_count": null,
   "metadata": {},
   "outputs": [],
   "source": []
  }
 ],
 "metadata": {
  "kernelspec": {
   "display_name": "Python 3",
   "language": "python",
   "name": "python3"
  },
  "language_info": {
   "codemirror_mode": {
    "name": "ipython",
    "version": 3
   },
   "file_extension": ".py",
   "mimetype": "text/x-python",
   "name": "python",
   "nbconvert_exporter": "python",
   "pygments_lexer": "ipython3",
   "version": "3.6.6"
  }
 },
 "nbformat": 4,
 "nbformat_minor": 2
}
